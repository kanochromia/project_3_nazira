{
 "cells": [
  {
   "cell_type": "markdown",
   "id": "eddb1dad",
   "metadata": {},
   "source": [
    "# Text Processing"
   ]
  },
  {
   "cell_type": "code",
   "execution_count": 1,
   "id": "0d1d4cff",
   "metadata": {},
   "outputs": [],
   "source": [
    "# imports\n",
    "import pandas as pd\n",
    "import numpy as np\n",
    "import seaborn as sns\n",
    "import matplotlib.pyplot as plt\n",
    "from sklearn.model_selection import train_test_split, GridSearchCV\n",
    "from sklearn.linear_model import LogisticRegression\n",
    "from sklearn.pipeline import Pipeline\n",
    "from sklearn.naive_bayes import MultinomialNB\n",
    "\n",
    "# Import CountVectorizer and TFIDFVectorizer from feature_extraction.text.\n",
    "import sklearn.feature_extraction.text \n",
    "from sklearn.feature_extraction.text import TfidfVectorizer, TfidfTransformer, CountVectorizer\n",
    "\n",
    "from sklearn.ensemble import RandomForestClassifier\n",
    "from sklearn.metrics import plot_confusion_matrix, confusion_matrix, mean_squared_error, classification_report\n",
    "from sklearn.metrics import accuracy_score, precision_score, recall_score, f1_score, roc_auc_score"
   ]
  },
  {
   "cell_type": "code",
   "execution_count": 2,
   "id": "1a58a794",
   "metadata": {},
   "outputs": [],
   "source": [
    "df = pd.read_csv('final_df.csv')"
   ]
  },
  {
   "cell_type": "code",
   "execution_count": 3,
   "id": "6dd4f67d",
   "metadata": {},
   "outputs": [],
   "source": [
    "# Drop unnamed column\n",
    "df.drop(columns='Unnamed: 0', inplace=True)"
   ]
  },
  {
   "cell_type": "code",
   "execution_count": 4,
   "id": "b1d41727",
   "metadata": {},
   "outputs": [
    {
     "name": "stdout",
     "output_type": "stream",
     "text": [
      "(19886, 2)\n",
      "<class 'pandas.core.frame.DataFrame'>\n",
      "RangeIndex: 19886 entries, 0 to 19885\n",
      "Data columns (total 2 columns):\n",
      " #   Column       Non-Null Count  Dtype \n",
      "---  ------       --------------  ----- \n",
      " 0   subreddit    19886 non-null  int64 \n",
      " 1   clean_title  19856 non-null  object\n",
      "dtypes: int64(1), object(1)\n",
      "memory usage: 310.8+ KB\n"
     ]
    }
   ],
   "source": [
    "print(df.shape)\n",
    "df.info()"
   ]
  },
  {
   "cell_type": "markdown",
   "id": "f60df594",
   "metadata": {},
   "source": [
    "As there is some null rows, I proceed to clean it."
   ]
  },
  {
   "cell_type": "code",
   "execution_count": 5,
   "id": "25a6196a",
   "metadata": {},
   "outputs": [],
   "source": [
    "empty = pd.isnull(df['clean_title'])"
   ]
  },
  {
   "cell_type": "code",
   "execution_count": 6,
   "id": "2b0278d1",
   "metadata": {
    "scrolled": true
   },
   "outputs": [
    {
     "data": {
      "text/html": [
       "<div>\n",
       "<style scoped>\n",
       "    .dataframe tbody tr th:only-of-type {\n",
       "        vertical-align: middle;\n",
       "    }\n",
       "\n",
       "    .dataframe tbody tr th {\n",
       "        vertical-align: top;\n",
       "    }\n",
       "\n",
       "    .dataframe thead th {\n",
       "        text-align: right;\n",
       "    }\n",
       "</style>\n",
       "<table border=\"1\" class=\"dataframe\">\n",
       "  <thead>\n",
       "    <tr style=\"text-align: right;\">\n",
       "      <th></th>\n",
       "      <th>subreddit</th>\n",
       "      <th>clean_title</th>\n",
       "    </tr>\n",
       "  </thead>\n",
       "  <tbody>\n",
       "    <tr>\n",
       "      <th>143</th>\n",
       "      <td>0</td>\n",
       "      <td>NaN</td>\n",
       "    </tr>\n",
       "    <tr>\n",
       "      <th>301</th>\n",
       "      <td>0</td>\n",
       "      <td>NaN</td>\n",
       "    </tr>\n",
       "    <tr>\n",
       "      <th>333</th>\n",
       "      <td>0</td>\n",
       "      <td>NaN</td>\n",
       "    </tr>\n",
       "    <tr>\n",
       "      <th>548</th>\n",
       "      <td>0</td>\n",
       "      <td>NaN</td>\n",
       "    </tr>\n",
       "    <tr>\n",
       "      <th>981</th>\n",
       "      <td>0</td>\n",
       "      <td>NaN</td>\n",
       "    </tr>\n",
       "    <tr>\n",
       "      <th>995</th>\n",
       "      <td>0</td>\n",
       "      <td>NaN</td>\n",
       "    </tr>\n",
       "    <tr>\n",
       "      <th>1572</th>\n",
       "      <td>0</td>\n",
       "      <td>NaN</td>\n",
       "    </tr>\n",
       "    <tr>\n",
       "      <th>2696</th>\n",
       "      <td>0</td>\n",
       "      <td>NaN</td>\n",
       "    </tr>\n",
       "    <tr>\n",
       "      <th>2825</th>\n",
       "      <td>0</td>\n",
       "      <td>NaN</td>\n",
       "    </tr>\n",
       "    <tr>\n",
       "      <th>3909</th>\n",
       "      <td>0</td>\n",
       "      <td>NaN</td>\n",
       "    </tr>\n",
       "    <tr>\n",
       "      <th>4742</th>\n",
       "      <td>0</td>\n",
       "      <td>NaN</td>\n",
       "    </tr>\n",
       "    <tr>\n",
       "      <th>6344</th>\n",
       "      <td>0</td>\n",
       "      <td>NaN</td>\n",
       "    </tr>\n",
       "    <tr>\n",
       "      <th>6727</th>\n",
       "      <td>0</td>\n",
       "      <td>NaN</td>\n",
       "    </tr>\n",
       "    <tr>\n",
       "      <th>7471</th>\n",
       "      <td>0</td>\n",
       "      <td>NaN</td>\n",
       "    </tr>\n",
       "    <tr>\n",
       "      <th>7499</th>\n",
       "      <td>0</td>\n",
       "      <td>NaN</td>\n",
       "    </tr>\n",
       "    <tr>\n",
       "      <th>7864</th>\n",
       "      <td>0</td>\n",
       "      <td>NaN</td>\n",
       "    </tr>\n",
       "    <tr>\n",
       "      <th>8438</th>\n",
       "      <td>0</td>\n",
       "      <td>NaN</td>\n",
       "    </tr>\n",
       "    <tr>\n",
       "      <th>8953</th>\n",
       "      <td>0</td>\n",
       "      <td>NaN</td>\n",
       "    </tr>\n",
       "    <tr>\n",
       "      <th>8955</th>\n",
       "      <td>0</td>\n",
       "      <td>NaN</td>\n",
       "    </tr>\n",
       "    <tr>\n",
       "      <th>9021</th>\n",
       "      <td>0</td>\n",
       "      <td>NaN</td>\n",
       "    </tr>\n",
       "    <tr>\n",
       "      <th>9047</th>\n",
       "      <td>0</td>\n",
       "      <td>NaN</td>\n",
       "    </tr>\n",
       "    <tr>\n",
       "      <th>9184</th>\n",
       "      <td>0</td>\n",
       "      <td>NaN</td>\n",
       "    </tr>\n",
       "    <tr>\n",
       "      <th>11758</th>\n",
       "      <td>1</td>\n",
       "      <td>NaN</td>\n",
       "    </tr>\n",
       "    <tr>\n",
       "      <th>12486</th>\n",
       "      <td>1</td>\n",
       "      <td>NaN</td>\n",
       "    </tr>\n",
       "    <tr>\n",
       "      <th>12737</th>\n",
       "      <td>1</td>\n",
       "      <td>NaN</td>\n",
       "    </tr>\n",
       "    <tr>\n",
       "      <th>12882</th>\n",
       "      <td>1</td>\n",
       "      <td>NaN</td>\n",
       "    </tr>\n",
       "    <tr>\n",
       "      <th>13667</th>\n",
       "      <td>1</td>\n",
       "      <td>NaN</td>\n",
       "    </tr>\n",
       "    <tr>\n",
       "      <th>17464</th>\n",
       "      <td>1</td>\n",
       "      <td>NaN</td>\n",
       "    </tr>\n",
       "    <tr>\n",
       "      <th>19012</th>\n",
       "      <td>1</td>\n",
       "      <td>NaN</td>\n",
       "    </tr>\n",
       "    <tr>\n",
       "      <th>19427</th>\n",
       "      <td>1</td>\n",
       "      <td>NaN</td>\n",
       "    </tr>\n",
       "  </tbody>\n",
       "</table>\n",
       "</div>"
      ],
      "text/plain": [
       "       subreddit clean_title\n",
       "143            0         NaN\n",
       "301            0         NaN\n",
       "333            0         NaN\n",
       "548            0         NaN\n",
       "981            0         NaN\n",
       "995            0         NaN\n",
       "1572           0         NaN\n",
       "2696           0         NaN\n",
       "2825           0         NaN\n",
       "3909           0         NaN\n",
       "4742           0         NaN\n",
       "6344           0         NaN\n",
       "6727           0         NaN\n",
       "7471           0         NaN\n",
       "7499           0         NaN\n",
       "7864           0         NaN\n",
       "8438           0         NaN\n",
       "8953           0         NaN\n",
       "8955           0         NaN\n",
       "9021           0         NaN\n",
       "9047           0         NaN\n",
       "9184           0         NaN\n",
       "11758          1         NaN\n",
       "12486          1         NaN\n",
       "12737          1         NaN\n",
       "12882          1         NaN\n",
       "13667          1         NaN\n",
       "17464          1         NaN\n",
       "19012          1         NaN\n",
       "19427          1         NaN"
      ]
     },
     "execution_count": 6,
     "metadata": {},
     "output_type": "execute_result"
    }
   ],
   "source": [
    "# briefly see what are the NaN rows under 'clean_title'\n",
    "df[empty]"
   ]
  },
  {
   "cell_type": "code",
   "execution_count": 7,
   "id": "53a220a9",
   "metadata": {},
   "outputs": [],
   "source": [
    "df.dropna(subset=['clean_title'], inplace=True)"
   ]
  },
  {
   "cell_type": "code",
   "execution_count": 8,
   "id": "f5245d5b",
   "metadata": {},
   "outputs": [
    {
     "name": "stdout",
     "output_type": "stream",
     "text": [
      "<class 'pandas.core.frame.DataFrame'>\n",
      "Int64Index: 19856 entries, 0 to 19885\n",
      "Data columns (total 2 columns):\n",
      " #   Column       Non-Null Count  Dtype \n",
      "---  ------       --------------  ----- \n",
      " 0   subreddit    19856 non-null  int64 \n",
      " 1   clean_title  19856 non-null  object\n",
      "dtypes: int64(1), object(1)\n",
      "memory usage: 465.4+ KB\n"
     ]
    }
   ],
   "source": [
    "# Double check\n",
    "df.info()"
   ]
  },
  {
   "cell_type": "markdown",
   "id": "797910ae",
   "metadata": {},
   "source": [
    "## Train, Test, Split"
   ]
  },
  {
   "cell_type": "markdown",
   "id": "87ac8c1d",
   "metadata": {},
   "source": [
    "Getting my data ready for modelling. First, we split our data into training and testing data."
   ]
  },
  {
   "cell_type": "code",
   "execution_count": 9,
   "id": "ae56cd87",
   "metadata": {},
   "outputs": [],
   "source": [
    "# X will be the feature\n",
    "# y will be the response variable\n",
    "X = df['clean_title']\n",
    "y = df['subreddit']"
   ]
  },
  {
   "cell_type": "code",
   "execution_count": 10,
   "id": "66e1eeb5",
   "metadata": {},
   "outputs": [],
   "source": [
    "X_train, X_test, y_train, y_test = train_test_split(X,\n",
    "                                                   y,\n",
    "                                                   test_size=0.30,\n",
    "                                                   stratify=y,\n",
    "                                                   random_state=42)"
   ]
  },
  {
   "cell_type": "markdown",
   "id": "e9d52a88",
   "metadata": {},
   "source": [
    "## CountVectorizer"
   ]
  },
  {
   "cell_type": "markdown",
   "id": "f4a3ae61",
   "metadata": {},
   "source": [
    "We will apply Count Vectorizer without analyzing the best parameters first."
   ]
  },
  {
   "cell_type": "code",
   "execution_count": 11,
   "id": "ff5b13bc",
   "metadata": {},
   "outputs": [],
   "source": [
    "cvec = CountVectorizer(stop_words='english', max_features=100) # Instantiate\n",
    "X_train = cvec.fit_transform(X_train) # Fit and transform\n",
    "\n",
    "X_train_df = pd.DataFrame(X_train.toarray(),columns=cvec.get_feature_names())"
   ]
  },
  {
   "cell_type": "code",
   "execution_count": 12,
   "id": "561ec3da",
   "metadata": {},
   "outputs": [
    {
     "data": {
      "text/plain": [
       "dog       4326\n",
       "cat       2521\n",
       "pron      1200\n",
       "help       837\n",
       "new        622\n",
       "year       587\n",
       "old        574\n",
       "like       552\n",
       "puppy      472\n",
       "love       456\n",
       "good       446\n",
       "need       430\n",
       "look       399\n",
       "breed      383\n",
       "advice     356\n",
       "know       345\n",
       "time       322\n",
       "day        321\n",
       "eat        320\n",
       "kitten     320\n",
       "dtype: int64"
      ]
     },
     "execution_count": 12,
     "metadata": {},
     "output_type": "execute_result"
    }
   ],
   "source": [
    "X_train_df.sum().sort_values(ascending=False).head(20)"
   ]
  },
  {
   "cell_type": "code",
   "execution_count": 13,
   "id": "bab16394",
   "metadata": {},
   "outputs": [],
   "source": [
    "#Understand which words belong udner which subreddit\n",
    "n_words = 40\n",
    "words = list(X_train_df.sum().sort_values(ascending=False)[:n_words].index) # take the top 40 words that appear into a list\n",
    "X_train_df['subreddit'] = y_train.values # creating a column and assigning the subreddit 0 and 1 to the index"
   ]
  },
  {
   "cell_type": "code",
   "execution_count": 14,
   "id": "a53aa9a0",
   "metadata": {
    "scrolled": true
   },
   "outputs": [
    {
     "data": {
      "text/html": [
       "<div>\n",
       "<style scoped>\n",
       "    .dataframe tbody tr th:only-of-type {\n",
       "        vertical-align: middle;\n",
       "    }\n",
       "\n",
       "    .dataframe tbody tr th {\n",
       "        vertical-align: top;\n",
       "    }\n",
       "\n",
       "    .dataframe thead th {\n",
       "        text-align: right;\n",
       "    }\n",
       "</style>\n",
       "<table border=\"1\" class=\"dataframe\">\n",
       "  <thead>\n",
       "    <tr style=\"text-align: right;\">\n",
       "      <th>subreddit</th>\n",
       "      <th>0</th>\n",
       "      <th>1</th>\n",
       "    </tr>\n",
       "  </thead>\n",
       "  <tbody>\n",
       "    <tr>\n",
       "      <th>dog</th>\n",
       "      <td>60</td>\n",
       "      <td>4266</td>\n",
       "    </tr>\n",
       "    <tr>\n",
       "      <th>cat</th>\n",
       "      <td>2450</td>\n",
       "      <td>71</td>\n",
       "    </tr>\n",
       "    <tr>\n",
       "      <th>pron</th>\n",
       "      <td>860</td>\n",
       "      <td>340</td>\n",
       "    </tr>\n",
       "    <tr>\n",
       "      <th>help</th>\n",
       "      <td>223</td>\n",
       "      <td>614</td>\n",
       "    </tr>\n",
       "    <tr>\n",
       "      <th>new</th>\n",
       "      <td>414</td>\n",
       "      <td>208</td>\n",
       "    </tr>\n",
       "    <tr>\n",
       "      <th>year</th>\n",
       "      <td>427</td>\n",
       "      <td>160</td>\n",
       "    </tr>\n",
       "    <tr>\n",
       "      <th>old</th>\n",
       "      <td>240</td>\n",
       "      <td>334</td>\n",
       "    </tr>\n",
       "    <tr>\n",
       "      <th>like</th>\n",
       "      <td>376</td>\n",
       "      <td>176</td>\n",
       "    </tr>\n",
       "    <tr>\n",
       "      <th>puppy</th>\n",
       "      <td>2</td>\n",
       "      <td>470</td>\n",
       "    </tr>\n",
       "    <tr>\n",
       "      <th>love</th>\n",
       "      <td>377</td>\n",
       "      <td>79</td>\n",
       "    </tr>\n",
       "    <tr>\n",
       "      <th>good</th>\n",
       "      <td>220</td>\n",
       "      <td>226</td>\n",
       "    </tr>\n",
       "    <tr>\n",
       "      <th>need</th>\n",
       "      <td>134</td>\n",
       "      <td>296</td>\n",
       "    </tr>\n",
       "    <tr>\n",
       "      <th>look</th>\n",
       "      <td>258</td>\n",
       "      <td>141</td>\n",
       "    </tr>\n",
       "    <tr>\n",
       "      <th>breed</th>\n",
       "      <td>60</td>\n",
       "      <td>323</td>\n",
       "    </tr>\n",
       "    <tr>\n",
       "      <th>advice</th>\n",
       "      <td>85</td>\n",
       "      <td>271</td>\n",
       "    </tr>\n",
       "    <tr>\n",
       "      <th>know</th>\n",
       "      <td>184</td>\n",
       "      <td>161</td>\n",
       "    </tr>\n",
       "    <tr>\n",
       "      <th>time</th>\n",
       "      <td>173</td>\n",
       "      <td>149</td>\n",
       "    </tr>\n",
       "    <tr>\n",
       "      <th>day</th>\n",
       "      <td>218</td>\n",
       "      <td>103</td>\n",
       "    </tr>\n",
       "    <tr>\n",
       "      <th>eat</th>\n",
       "      <td>78</td>\n",
       "      <td>242</td>\n",
       "    </tr>\n",
       "    <tr>\n",
       "      <th>kitten</th>\n",
       "      <td>311</td>\n",
       "      <td>9</td>\n",
       "    </tr>\n",
       "    <tr>\n",
       "      <th>little</th>\n",
       "      <td>270</td>\n",
       "      <td>35</td>\n",
       "    </tr>\n",
       "    <tr>\n",
       "      <th>month</th>\n",
       "      <td>164</td>\n",
       "      <td>135</td>\n",
       "    </tr>\n",
       "    <tr>\n",
       "      <th>think</th>\n",
       "      <td>188</td>\n",
       "      <td>108</td>\n",
       "    </tr>\n",
       "    <tr>\n",
       "      <th>food</th>\n",
       "      <td>78</td>\n",
       "      <td>205</td>\n",
       "    </tr>\n",
       "    <tr>\n",
       "      <th>want</th>\n",
       "      <td>149</td>\n",
       "      <td>130</td>\n",
       "    </tr>\n",
       "    <tr>\n",
       "      <th>make</th>\n",
       "      <td>135</td>\n",
       "      <td>102</td>\n",
       "    </tr>\n",
       "    <tr>\n",
       "      <th>adopt</th>\n",
       "      <td>119</td>\n",
       "      <td>116</td>\n",
       "    </tr>\n",
       "    <tr>\n",
       "      <th>kitty</th>\n",
       "      <td>235</td>\n",
       "      <td>0</td>\n",
       "    </tr>\n",
       "    <tr>\n",
       "      <th>home</th>\n",
       "      <td>133</td>\n",
       "      <td>100</td>\n",
       "    </tr>\n",
       "    <tr>\n",
       "      <th>sleep</th>\n",
       "      <td>169</td>\n",
       "      <td>61</td>\n",
       "    </tr>\n",
       "    <tr>\n",
       "      <th>boy</th>\n",
       "      <td>201</td>\n",
       "      <td>24</td>\n",
       "    </tr>\n",
       "    <tr>\n",
       "      <th>baby</th>\n",
       "      <td>193</td>\n",
       "      <td>26</td>\n",
       "    </tr>\n",
       "    <tr>\n",
       "      <th>today</th>\n",
       "      <td>118</td>\n",
       "      <td>88</td>\n",
       "    </tr>\n",
       "    <tr>\n",
       "      <th>stop</th>\n",
       "      <td>79</td>\n",
       "      <td>126</td>\n",
       "    </tr>\n",
       "    <tr>\n",
       "      <th>happy</th>\n",
       "      <td>186</td>\n",
       "      <td>19</td>\n",
       "    </tr>\n",
       "    <tr>\n",
       "      <th>friend</th>\n",
       "      <td>117</td>\n",
       "      <td>81</td>\n",
       "    </tr>\n",
       "    <tr>\n",
       "      <th>vet</th>\n",
       "      <td>78</td>\n",
       "      <td>112</td>\n",
       "    </tr>\n",
       "    <tr>\n",
       "      <th>pet</th>\n",
       "      <td>71</td>\n",
       "      <td>113</td>\n",
       "    </tr>\n",
       "    <tr>\n",
       "      <th>owner</th>\n",
       "      <td>51</td>\n",
       "      <td>130</td>\n",
       "    </tr>\n",
       "    <tr>\n",
       "      <th>rescue</th>\n",
       "      <td>64</td>\n",
       "      <td>105</td>\n",
       "    </tr>\n",
       "  </tbody>\n",
       "</table>\n",
       "</div>"
      ],
      "text/plain": [
       "subreddit     0     1\n",
       "dog          60  4266\n",
       "cat        2450    71\n",
       "pron        860   340\n",
       "help        223   614\n",
       "new         414   208\n",
       "year        427   160\n",
       "old         240   334\n",
       "like        376   176\n",
       "puppy         2   470\n",
       "love        377    79\n",
       "good        220   226\n",
       "need        134   296\n",
       "look        258   141\n",
       "breed        60   323\n",
       "advice       85   271\n",
       "know        184   161\n",
       "time        173   149\n",
       "day         218   103\n",
       "eat          78   242\n",
       "kitten      311     9\n",
       "little      270    35\n",
       "month       164   135\n",
       "think       188   108\n",
       "food         78   205\n",
       "want        149   130\n",
       "make        135   102\n",
       "adopt       119   116\n",
       "kitty       235     0\n",
       "home        133   100\n",
       "sleep       169    61\n",
       "boy         201    24\n",
       "baby        193    26\n",
       "today       118    88\n",
       "stop         79   126\n",
       "happy       186    19\n",
       "friend      117    81\n",
       "vet          78   112\n",
       "pet          71   113\n",
       "owner        51   130\n",
       "rescue       64   105"
      ]
     },
     "execution_count": 14,
     "metadata": {},
     "output_type": "execute_result"
    }
   ],
   "source": [
    "# Showing which subreddit the top 40 words belong to\n",
    "X_train_df_small = X_train_df.groupby('subreddit').sum()[words]\n",
    "X_train_df_small.head().T"
   ]
  },
  {
   "cell_type": "markdown",
   "id": "3be78a36",
   "metadata": {},
   "source": [
    "There are preliminary thoughts with respect to the words that appear in each subreddit.\n",
    "<br>\n",
    "### r/dogs\n",
    "<li>The word 'help' appears a lot in the r/dogs subreddit.</li>\n",
    "<li>This could potentially mean that dog lovers/owners who are on Reddit use the forums to seek advice.</li>\n",
    "\n",
    "### r/cats\n",
    "<li>Words such as 'new', 'year', 'like' and 'love' appeared more frequently in the cat subreddit. It may signify that people were looking to own cats in the new year. But we will need to delve into each individual post to understand the context.</li>\n",
    "<br>\n",
    "Note: Cat enthusiasts/owners may also use the r/cats subreddit to seek advice, but not as frequently as in the r/dogs one. Same for those in r/dogs - they may look forward to owning a dog in the new year, but are not posting frequent enough on the reddit platform with respect to that topic."
   ]
  },
  {
   "cell_type": "markdown",
   "id": "f8d00cb9",
   "metadata": {},
   "source": [
    "## Baseline Accuracy"
   ]
  },
  {
   "cell_type": "code",
   "execution_count": 15,
   "id": "eef8f99c",
   "metadata": {},
   "outputs": [
    {
     "data": {
      "text/plain": [
       "1    0.500252\n",
       "0    0.499748\n",
       "Name: subreddit, dtype: float64"
      ]
     },
     "execution_count": 15,
     "metadata": {},
     "output_type": "execute_result"
    }
   ],
   "source": [
    "y_test.value_counts(normalize=True)"
   ]
  },
  {
   "cell_type": "markdown",
   "id": "e821410f",
   "metadata": {},
   "source": [
    "The splits are rather even as we have stratified our training and test based on the binaries in y, on top of that we scraped rather equal documents from the r/cats and r/dogs subreddits. We would also have a baseline accuracy of 50.0%, i.e. if we predicted that all posts came from r/dogs, we would be 50.5% accurate."
   ]
  },
  {
   "cell_type": "markdown",
   "id": "c316c580",
   "metadata": {},
   "source": [
    "## `Random Forest Classifier` and `CountVectorizer`"
   ]
  },
  {
   "cell_type": "markdown",
   "id": "f4bbdff8",
   "metadata": {},
   "source": [
    "Random Forest will be the first model that we will implement."
   ]
  },
  {
   "cell_type": "code",
   "execution_count": 16,
   "id": "581e2402",
   "metadata": {},
   "outputs": [],
   "source": [
    "# Set up pipeline\n",
    "pipe_rf_c = Pipeline([\n",
    "    ('cvec', CountVectorizer(stop_words='english', max_features=500, ngram_range=(1,2))),\n",
    "    ('rf', RandomForestClassifier())\n",
    "])\n",
    "\n",
    "# Set up pipeline parameters\n",
    "pipe_rf_c_params = {\n",
    "    'rf__n_estimators': [100, 150, 200],\n",
    "    'rf__max_depth': [None, 5, 6], \n",
    "    'rf__max_features': ['auto', 'log2'],\n",
    "    'rf__min_samples_split': [2, 50]}"
   ]
  },
  {
   "cell_type": "markdown",
   "id": "3acbf362",
   "metadata": {},
   "source": [
    "Without wasting too much time, we can utilise GridSearchCV to find the best parameters for our models. This will be repeated in the other models."
   ]
  },
  {
   "cell_type": "code",
   "execution_count": 17,
   "id": "2c9baaac",
   "metadata": {},
   "outputs": [],
   "source": [
    "# Instantiate GridSearch to find the best parameters\n",
    "gs_rf_c = GridSearchCV(pipe_rf_c, pipe_rf_c_params, cv=5)\n",
    "\n",
    "# Fit model\n",
    "gs_rf_c.fit(X_test, y_test);"
   ]
  },
  {
   "cell_type": "code",
   "execution_count": 18,
   "id": "0dddd209",
   "metadata": {},
   "outputs": [
    {
     "data": {
      "text/plain": [
       "0.8918891124146986"
      ]
     },
     "execution_count": 18,
     "metadata": {},
     "output_type": "execute_result"
    }
   ],
   "source": [
    "# Find best score (GridSearch)\n",
    "gs_rf_c.best_score_"
   ]
  },
  {
   "cell_type": "code",
   "execution_count": 19,
   "id": "b0e35318",
   "metadata": {},
   "outputs": [
    {
     "data": {
      "text/plain": [
       "{'rf__max_depth': None,\n",
       " 'rf__max_features': 'log2',\n",
       " 'rf__min_samples_split': 50,\n",
       " 'rf__n_estimators': 150}"
      ]
     },
     "execution_count": 19,
     "metadata": {},
     "output_type": "execute_result"
    }
   ],
   "source": [
    "# Find best parameters\n",
    "gs_rf_c.best_params_"
   ]
  },
  {
   "cell_type": "markdown",
   "id": "cc18e79c",
   "metadata": {},
   "source": [
    "## `Random Forest Classifier` and `TFIDF Vectorizer`"
   ]
  },
  {
   "cell_type": "code",
   "execution_count": 20,
   "id": "77b6d1ce",
   "metadata": {},
   "outputs": [],
   "source": [
    "# Set up pipeline\n",
    "pipe_rf_t = Pipeline([\n",
    "    ('tvec', TfidfVectorizer(stop_words='english', max_features=500, ngram_range=(1,2))),\n",
    "    ('rf', RandomForestClassifier())\n",
    "])\n",
    "\n",
    "# Set up pipeline parameters\n",
    "pipe_rf_t_params = {\n",
    "    'rf__n_estimators': [100, 150, 200],\n",
    "    'rf__max_depth': [None, 5, 6], \n",
    "    'rf__max_features': ['auto', 'log2'],\n",
    "    'rf__min_samples_split': [2, 50, 100]\n",
    "}"
   ]
  },
  {
   "cell_type": "code",
   "execution_count": 21,
   "id": "443e7884",
   "metadata": {},
   "outputs": [],
   "source": [
    "# Instantiate GridSearch\n",
    "gs_rf_t = GridSearchCV(pipe_rf_t, pipe_rf_t_params, cv=5, verbose=1)"
   ]
  },
  {
   "cell_type": "code",
   "execution_count": 22,
   "id": "2be20725",
   "metadata": {
    "scrolled": true
   },
   "outputs": [
    {
     "name": "stdout",
     "output_type": "stream",
     "text": [
      "Fitting 5 folds for each of 54 candidates, totalling 270 fits\n"
     ]
    }
   ],
   "source": [
    "# Fit gridsearch\n",
    "gs_rf_t.fit(X_test, y_test);"
   ]
  },
  {
   "cell_type": "code",
   "execution_count": 23,
   "id": "8bf09549",
   "metadata": {},
   "outputs": [
    {
     "data": {
      "text/plain": [
       "0.8933997430392372"
      ]
     },
     "execution_count": 23,
     "metadata": {},
     "output_type": "execute_result"
    }
   ],
   "source": [
    "# Find best score\n",
    "gs_rf_t.best_score_"
   ]
  },
  {
   "cell_type": "code",
   "execution_count": 24,
   "id": "55eedf43",
   "metadata": {},
   "outputs": [
    {
     "data": {
      "text/plain": [
       "{'rf__max_depth': None,\n",
       " 'rf__max_features': 'log2',\n",
       " 'rf__min_samples_split': 2,\n",
       " 'rf__n_estimators': 150}"
      ]
     },
     "execution_count": 24,
     "metadata": {},
     "output_type": "execute_result"
    }
   ],
   "source": [
    "# Find best parameters\n",
    "gs_rf_t.best_params_"
   ]
  },
  {
   "cell_type": "markdown",
   "id": "3ec9970d",
   "metadata": {},
   "source": [
    "## `Naive Bayes` and `CountVectorizer`"
   ]
  },
  {
   "cell_type": "code",
   "execution_count": 25,
   "id": "03bbb8d3",
   "metadata": {},
   "outputs": [],
   "source": [
    "# Set up pipeline\n",
    "pipe_nb_c = Pipeline([\n",
    "    ('cvec', CountVectorizer(stop_words='english')),\n",
    "    ('nb', MultinomialNB())])"
   ]
  },
  {
   "cell_type": "code",
   "execution_count": 26,
   "id": "36d7aa52",
   "metadata": {},
   "outputs": [],
   "source": [
    "# Search over the following values of hyperparameters:\n",
    "# Maximum number of features fit: 2000, 3000, 4000, 5000\n",
    "# Minimum number of documents needed to include token: 2, 3\n",
    "# Maximum number of documents needed to include token: 90%, 95%\n",
    "# Check (individual tokens) and also check (individual tokens and 2-grams).\n",
    "\n",
    "pipe_params = {\n",
    "    'cvec__max_features': [2_000, 3_000, 4_000, 5_000],\n",
    "    'cvec__min_df': [2, 3],\n",
    "    'cvec__max_df': [.9, .95],\n",
    "    'cvec__ngram_range': [(1,1), (1,2)]\n",
    "}"
   ]
  },
  {
   "cell_type": "code",
   "execution_count": 27,
   "id": "cdf3e3f6",
   "metadata": {},
   "outputs": [],
   "source": [
    "# Instantiate GridSearchCV.\n",
    "\n",
    "gs_nb_c = GridSearchCV(pipe_nb_c, \n",
    "                  param_grid=pipe_params, \n",
    "                  cv=5) # 5-fold cross-validation."
   ]
  },
  {
   "cell_type": "code",
   "execution_count": 28,
   "id": "18b24e5f",
   "metadata": {},
   "outputs": [
    {
     "data": {
      "text/plain": [
       "GridSearchCV(cv=5,\n",
       "             estimator=Pipeline(steps=[('cvec',\n",
       "                                        CountVectorizer(stop_words='english')),\n",
       "                                       ('nb', MultinomialNB())]),\n",
       "             param_grid={'cvec__max_df': [0.9, 0.95],\n",
       "                         'cvec__max_features': [2000, 3000, 4000, 5000],\n",
       "                         'cvec__min_df': [2, 3],\n",
       "                         'cvec__ngram_range': [(1, 1), (1, 2)]})"
      ]
     },
     "execution_count": 28,
     "metadata": {},
     "output_type": "execute_result"
    }
   ],
   "source": [
    "# Fit GridSearch\n",
    "gs_nb_c.fit(X_test, y_test)"
   ]
  },
  {
   "cell_type": "code",
   "execution_count": 29,
   "id": "8580b7f4",
   "metadata": {},
   "outputs": [
    {
     "name": "stdout",
     "output_type": "stream",
     "text": [
      "0.8930640316918275\n"
     ]
    }
   ],
   "source": [
    "# Best Score\n",
    "print(gs_nb_c.best_score_)"
   ]
  },
  {
   "cell_type": "code",
   "execution_count": 30,
   "id": "e3578a4a",
   "metadata": {},
   "outputs": [
    {
     "data": {
      "text/plain": [
       "{'cvec__max_df': 0.9,\n",
       " 'cvec__max_features': 4000,\n",
       " 'cvec__min_df': 2,\n",
       " 'cvec__ngram_range': (1, 2)}"
      ]
     },
     "execution_count": 30,
     "metadata": {},
     "output_type": "execute_result"
    }
   ],
   "source": [
    "# Find best parameters\n",
    "gs_nb_c.best_params_"
   ]
  },
  {
   "cell_type": "markdown",
   "id": "b894be46",
   "metadata": {},
   "source": [
    "## `Naive Bayes` and `TFIDF Vectorizer`"
   ]
  },
  {
   "cell_type": "code",
   "execution_count": 31,
   "id": "03ed1f32",
   "metadata": {},
   "outputs": [],
   "source": [
    "# Set up pipeline\n",
    "pipe_nb_t = Pipeline([\n",
    "    ('tvec', TfidfVectorizer(stop_words='english')),\n",
    "    ('nb', MultinomialNB())\n",
    "])\n",
    "\n",
    "# Set up pipeline parameters\n",
    "params_grid = {\n",
    "    'nb__alpha': [1.0], \n",
    "   'nb__fit_prior': [True, False]\n",
    "}"
   ]
  },
  {
   "cell_type": "code",
   "execution_count": 32,
   "id": "658fef68",
   "metadata": {},
   "outputs": [],
   "source": [
    "# Set up GridSearchCV\n",
    "gs_nb_t = GridSearchCV(pipe_nb_t,param_grid=params_grid\n",
    "                       , cv=5,verbose=1)"
   ]
  },
  {
   "cell_type": "code",
   "execution_count": 33,
   "id": "59f9e5c7",
   "metadata": {},
   "outputs": [
    {
     "name": "stdout",
     "output_type": "stream",
     "text": [
      "Fitting 5 folds for each of 2 candidates, totalling 10 fits\n"
     ]
    }
   ],
   "source": [
    "# Fit GridSearchCV model\n",
    "gs_nb_t.fit(X_test, y_test);"
   ]
  },
  {
   "cell_type": "code",
   "execution_count": 34,
   "id": "698cd5c2",
   "metadata": {},
   "outputs": [
    {
     "name": "stdout",
     "output_type": "stream",
     "text": [
      "0.8833274164736643\n"
     ]
    }
   ],
   "source": [
    "# Best Score\n",
    "print(gs_nb_t.best_score_)"
   ]
  },
  {
   "cell_type": "code",
   "execution_count": 35,
   "id": "6b6661f5",
   "metadata": {},
   "outputs": [
    {
     "data": {
      "text/plain": [
       "{'nb__alpha': 1.0, 'nb__fit_prior': False}"
      ]
     },
     "execution_count": 35,
     "metadata": {},
     "output_type": "execute_result"
    }
   ],
   "source": [
    "# Find best parameters\n",
    "gs_nb_t.best_params_"
   ]
  },
  {
   "cell_type": "markdown",
   "id": "08675980",
   "metadata": {},
   "source": [
    "## `Logistic Regression` and `CountVectorizer`"
   ]
  },
  {
   "cell_type": "code",
   "execution_count": 36,
   "id": "ea5e33a1",
   "metadata": {},
   "outputs": [],
   "source": [
    "# Set up pipeline\n",
    "pipe_lr_c = Pipeline([\n",
    "    ('cvec', CountVectorizer(stop_words='english', ngram_range=(1,2))),\n",
    "    ('lr', LogisticRegression(solver='lbfgs', max_iter=5000))\n",
    "])\n",
    "\n",
    "# Set up pipeline parameters\n",
    "pipe_lr_c_params = {\n",
    "    'cvec__max_features': [200, 500],\n",
    "}"
   ]
  },
  {
   "cell_type": "code",
   "execution_count": 37,
   "id": "fd9f3fe8",
   "metadata": {},
   "outputs": [
    {
     "name": "stdout",
     "output_type": "stream",
     "text": [
      "Fitting 5 folds for each of 2 candidates, totalling 10 fits\n"
     ]
    }
   ],
   "source": [
    "# Set up GridSearchCV\n",
    "gs_lr_c = GridSearchCV(pipe_lr_c, pipe_lr_c_params, cv=5, verbose=1)\n",
    "\n",
    "# Fit GridSearchCV model\n",
    "gs_lr_c.fit(X_test, y_test);"
   ]
  },
  {
   "cell_type": "code",
   "execution_count": 38,
   "id": "2a8947a1",
   "metadata": {},
   "outputs": [
    {
     "data": {
      "text/plain": [
       "0.8892029990025865"
      ]
     },
     "execution_count": 38,
     "metadata": {},
     "output_type": "execute_result"
    }
   ],
   "source": [
    "# Find Best Score\n",
    "gs_lr_c.best_score_"
   ]
  },
  {
   "cell_type": "code",
   "execution_count": 39,
   "id": "f73fb5ca",
   "metadata": {},
   "outputs": [
    {
     "data": {
      "text/plain": [
       "{'cvec__max_features': 500}"
      ]
     },
     "execution_count": 39,
     "metadata": {},
     "output_type": "execute_result"
    }
   ],
   "source": [
    "# Find Best Parameters\n",
    "gs_lr_c.best_params_"
   ]
  },
  {
   "cell_type": "markdown",
   "id": "c070bebe",
   "metadata": {},
   "source": [
    "## `Logistic Regression` and `TFIDF Vectorizer`"
   ]
  },
  {
   "cell_type": "code",
   "execution_count": 40,
   "id": "4526166f",
   "metadata": {},
   "outputs": [],
   "source": [
    "# Set up pipeline\n",
    "\n",
    "pipe_lr_t = Pipeline([\n",
    "    ('tvec', TfidfVectorizer(stop_words='english', ngram_range=(1,2))),\n",
    "    ('lr', LogisticRegression(solver='lbfgs', max_iter=5000))\n",
    "])\n",
    "\n",
    "# Set up pipeline parameters\n",
    "pipe_lr_t_params = {\n",
    "    'tvec__max_features': [200, 500]\n",
    "}"
   ]
  },
  {
   "cell_type": "code",
   "execution_count": 41,
   "id": "088aeb6d",
   "metadata": {},
   "outputs": [
    {
     "name": "stdout",
     "output_type": "stream",
     "text": [
      "Fitting 5 folds for each of 2 candidates, totalling 10 fits\n"
     ]
    },
    {
     "data": {
      "text/plain": [
       "GridSearchCV(cv=5,\n",
       "             estimator=Pipeline(steps=[('tvec',\n",
       "                                        TfidfVectorizer(ngram_range=(1, 2),\n",
       "                                                        stop_words='english')),\n",
       "                                       ('lr',\n",
       "                                        LogisticRegression(max_iter=5000))]),\n",
       "             param_grid={'tvec__max_features': [200, 500]}, verbose=1)"
      ]
     },
     "execution_count": 41,
     "metadata": {},
     "output_type": "execute_result"
    }
   ],
   "source": [
    "# Instantiate GridSearchCV\n",
    "gs_lr_t = GridSearchCV(pipe_lr_t, pipe_lr_t_params, cv=5, verbose =1)\n",
    "\n",
    "# Fit GridSearchCV\n",
    "gs_lr_t.fit(X_test, y_test)"
   ]
  },
  {
   "cell_type": "code",
   "execution_count": 42,
   "id": "6251cb1a",
   "metadata": {},
   "outputs": [
    {
     "data": {
      "text/plain": [
       "0.8925605351095184"
      ]
     },
     "execution_count": 42,
     "metadata": {},
     "output_type": "execute_result"
    }
   ],
   "source": [
    "# Best Score\n",
    "gs_lr_t.best_score_"
   ]
  },
  {
   "cell_type": "code",
   "execution_count": 43,
   "id": "50d41480",
   "metadata": {},
   "outputs": [
    {
     "data": {
      "text/plain": [
       "{'tvec__max_features': 500}"
      ]
     },
     "execution_count": 43,
     "metadata": {},
     "output_type": "execute_result"
    }
   ],
   "source": [
    "# Best parameters\n",
    "gs_lr_t.best_params_"
   ]
  },
  {
   "cell_type": "markdown",
   "id": "70b42f46",
   "metadata": {},
   "source": [
    "## Compare Models"
   ]
  },
  {
   "cell_type": "code",
   "execution_count": 44,
   "id": "058ab83d",
   "metadata": {},
   "outputs": [
    {
     "data": {
      "text/html": [
       "<div>\n",
       "<style scoped>\n",
       "    .dataframe tbody tr th:only-of-type {\n",
       "        vertical-align: middle;\n",
       "    }\n",
       "\n",
       "    .dataframe tbody tr th {\n",
       "        vertical-align: top;\n",
       "    }\n",
       "\n",
       "    .dataframe thead th {\n",
       "        text-align: right;\n",
       "    }\n",
       "</style>\n",
       "<table border=\"1\" class=\"dataframe\">\n",
       "  <thead>\n",
       "    <tr style=\"text-align: right;\">\n",
       "      <th></th>\n",
       "      <th>type</th>\n",
       "      <th>accuracy</th>\n",
       "    </tr>\n",
       "  </thead>\n",
       "  <tbody>\n",
       "    <tr>\n",
       "      <th>0</th>\n",
       "      <td>['cvec', 'rf']</td>\n",
       "      <td>0.891889</td>\n",
       "    </tr>\n",
       "    <tr>\n",
       "      <th>1</th>\n",
       "      <td>['tvec', 'rf']</td>\n",
       "      <td>0.893400</td>\n",
       "    </tr>\n",
       "    <tr>\n",
       "      <th>2</th>\n",
       "      <td>['cvec', 'nb']</td>\n",
       "      <td>0.893064</td>\n",
       "    </tr>\n",
       "    <tr>\n",
       "      <th>3</th>\n",
       "      <td>['tvec', 'nb']</td>\n",
       "      <td>0.883327</td>\n",
       "    </tr>\n",
       "    <tr>\n",
       "      <th>4</th>\n",
       "      <td>['cvec', 'lr']</td>\n",
       "      <td>0.889203</td>\n",
       "    </tr>\n",
       "    <tr>\n",
       "      <th>5</th>\n",
       "      <td>['tvec', 'lr']</td>\n",
       "      <td>0.892561</td>\n",
       "    </tr>\n",
       "  </tbody>\n",
       "</table>\n",
       "</div>"
      ],
      "text/plain": [
       "             type  accuracy\n",
       "0  ['cvec', 'rf']  0.891889\n",
       "1  ['tvec', 'rf']  0.893400\n",
       "2  ['cvec', 'nb']  0.893064\n",
       "3  ['tvec', 'nb']  0.883327\n",
       "4  ['cvec', 'lr']  0.889203\n",
       "5  ['tvec', 'lr']  0.892561"
      ]
     },
     "execution_count": 44,
     "metadata": {},
     "output_type": "execute_result"
    }
   ],
   "source": [
    "# Generate a dataframe of model & accuracy score\n",
    "list_of_models = [gs_rf_c, gs_rf_t, \n",
    "                  gs_nb_c, gs_nb_t,\n",
    "                  gs_lr_c, gs_lr_t]\n",
    "\n",
    "# Create an empty list for each model's dictionary\n",
    "models = []\n",
    "\n",
    "for mod in list_of_models:\n",
    "    # mod.best_score_\n",
    "    model = {}\n",
    "    model['type'] = str(list(mod.estimator.named_steps.keys()))\n",
    "    model['accuracy'] = mod.best_score_\n",
    "    models.append(model)\n",
    "\n",
    "# Append baseline for comparison\n",
    "baseline = {}\n",
    "baseline['type'] = 'baseline'\n",
    "baseline['accuracy'] = y_train.value_counts(normalize=True)[1]\n",
    "models.append(baseline)\n",
    "\n",
    "# change it into a DataFrame\n",
    "models_df = pd.DataFrame(models)\n",
    "models_df.head(6)"
   ]
  },
  {
   "cell_type": "markdown",
   "id": "6fe3db8a",
   "metadata": {},
   "source": [
    "# Analysis"
   ]
  },
  {
   "cell_type": "markdown",
   "id": "18962235",
   "metadata": {},
   "source": [
    "### Confusion Matrix"
   ]
  },
  {
   "cell_type": "markdown",
   "id": "e5d76158",
   "metadata": {},
   "source": [
    "### Accuracy"
   ]
  },
  {
   "cell_type": "markdown",
   "id": "a245e29d",
   "metadata": {},
   "source": [
    "It is important to find out the accuracy of the models in comparison to the baseline."
   ]
  },
  {
   "cell_type": "code",
   "execution_count": 45,
   "id": "256e9806",
   "metadata": {},
   "outputs": [
    {
     "data": {
      "image/png": "[encoded data removed]",
      "text/plain": [
       "<Figure size 1440x360 with 1 Axes>"
      ]
     },
     "metadata": {
      "needs_background": "light"
     },
     "output_type": "display_data"
    }
   ],
   "source": [
    "plt.figure(figsize=(20,5))\n",
    "sns.barplot(data=models_df, x='accuracy', y='type')\n",
    "plt.xlabel('Accuracy', size=18)\n",
    "plt.ylabel('[Transformer, Estimator]', size=18)\n",
    "plt.yticks(size=18)\n",
    "plt.xticks(size=18)\n",
    "plt.title('Accuracy against Baseline Model', size=25)\n",
    "sns.despine(left=True, bottom=True);"
   ]
  },
  {
   "cell_type": "markdown",
   "id": "9c71e631",
   "metadata": {},
   "source": [
    "Most of the models perform well when predicting which posts fall under which subreddit. We have utilised GridSearchCV to find out the best parameters to use for each model.\n",
    "\n",
    "We will further analyse the 2 best performing models - Random Forest + TFIDF Vectorizer (89.41%) and Naive Bayes + CountVectorizer (89.31%)."
   ]
  },
  {
   "cell_type": "markdown",
   "id": "516c24d3",
   "metadata": {},
   "source": [
    "## Comparing `Random Forest` + `TFIDF` and `Naive Bayes` + `Count Vectorizer`"
   ]
  },
  {
   "cell_type": "markdown",
   "id": "6c87489f",
   "metadata": {},
   "source": [
    "With the best parameters that we computed above from GridSearchCV, we will now set up the Pipeline."
   ]
  },
  {
   "cell_type": "code",
   "execution_count": 46,
   "id": "fbfc4f7c",
   "metadata": {},
   "outputs": [],
   "source": [
    "# Define X and y\n",
    "X = df['clean_title']\n",
    "y = df['subreddit']\n",
    "\n",
    "# Split data into train and test sets\n",
    "X_train, X_test, y_train, y_test = train_test_split(X, y, \n",
    "                                                    test_size=.30, \n",
    "                                                    random_state=42)"
   ]
  },
  {
   "cell_type": "markdown",
   "id": "60e14c53",
   "metadata": {},
   "source": [
    "### `Random Forest` + `Tfidf Vectorizer`"
   ]
  },
  {
   "cell_type": "code",
   "execution_count": 47,
   "id": "f6984d64",
   "metadata": {},
   "outputs": [],
   "source": [
    "# Set up pipeline\n",
    "pipe_rf_t = Pipeline([\n",
    "    ('tvec', TfidfVectorizer(stop_words='english', max_features=500, ngram_range=(1,2))),\n",
    "    ('rf', RandomForestClassifier())\n",
    "])\n",
    "\n",
    "# Set up pipeline parameters\n",
    "pipe_rf_t_params = {\n",
    "    'rf__n_estimators': [150],\n",
    "    'rf__max_depth': [None], \n",
    "    'rf__max_features': ['log2'],\n",
    "    'rf__min_samples_split': [2]\n",
    "}"
   ]
  },
  {
   "cell_type": "code",
   "execution_count": 48,
   "id": "0277f969",
   "metadata": {},
   "outputs": [],
   "source": [
    "# Instantiate GridSearch\n",
    "gs_rf_t = GridSearchCV(pipe_rf_t, pipe_rf_t_params, cv=5, verbose=1)"
   ]
  },
  {
   "cell_type": "code",
   "execution_count": 49,
   "id": "6d8f66ee",
   "metadata": {
    "scrolled": true
   },
   "outputs": [
    {
     "name": "stdout",
     "output_type": "stream",
     "text": [
      "Fitting 5 folds for each of 1 candidates, totalling 5 fits\n"
     ]
    }
   ],
   "source": [
    "# Fit gridsearch\n",
    "gs_rf_t.fit(X_test, y_test);"
   ]
  },
  {
   "cell_type": "code",
   "execution_count": 50,
   "id": "27a5f163",
   "metadata": {},
   "outputs": [
    {
     "data": {
      "text/plain": [
       "0.8889128714295993"
      ]
     },
     "execution_count": 50,
     "metadata": {},
     "output_type": "execute_result"
    }
   ],
   "source": [
    "# Score model on train data\n",
    "gs_rf_t.score(X_train, y_train)"
   ]
  },
  {
   "cell_type": "code",
   "execution_count": 51,
   "id": "f65435b0",
   "metadata": {},
   "outputs": [
    {
     "data": {
      "text/plain": [
       "0.9565217391304348"
      ]
     },
     "execution_count": 51,
     "metadata": {},
     "output_type": "execute_result"
    }
   ],
   "source": [
    "# Score model on train data\n",
    "gs_rf_t.score(X_test, y_test)"
   ]
  },
  {
   "cell_type": "code",
   "execution_count": 52,
   "id": "e26cbf0f",
   "metadata": {},
   "outputs": [],
   "source": [
    "preds = gs_rf_t.predict(X_test)\n",
    "cm = confusion_matrix(y_test, preds)\n",
    "tn, fp, fn, tp = confusion_matrix(y_test, preds).ravel()"
   ]
  },
  {
   "cell_type": "code",
   "execution_count": 53,
   "id": "a7d64098",
   "metadata": {
    "scrolled": false
   },
   "outputs": [
    {
     "data": {
      "text/html": [
       "<div>\n",
       "<style scoped>\n",
       "    .dataframe tbody tr th:only-of-type {\n",
       "        vertical-align: middle;\n",
       "    }\n",
       "\n",
       "    .dataframe tbody tr th {\n",
       "        vertical-align: top;\n",
       "    }\n",
       "\n",
       "    .dataframe thead th {\n",
       "        text-align: right;\n",
       "    }\n",
       "</style>\n",
       "<table border=\"1\" class=\"dataframe\">\n",
       "  <thead>\n",
       "    <tr style=\"text-align: right;\">\n",
       "      <th></th>\n",
       "      <th>Predicted Cats</th>\n",
       "      <th>Predicted Dogs</th>\n",
       "    </tr>\n",
       "  </thead>\n",
       "  <tbody>\n",
       "    <tr>\n",
       "      <th>Actual Cats</th>\n",
       "      <td>2924</td>\n",
       "      <td>61</td>\n",
       "    </tr>\n",
       "    <tr>\n",
       "      <th>Actual Dogs</th>\n",
       "      <td>198</td>\n",
       "      <td>2774</td>\n",
       "    </tr>\n",
       "  </tbody>\n",
       "</table>\n",
       "</div>"
      ],
      "text/plain": [
       "             Predicted Cats  Predicted Dogs\n",
       "Actual Cats            2924              61\n",
       "Actual Dogs             198            2774"
      ]
     },
     "execution_count": 53,
     "metadata": {},
     "output_type": "execute_result"
    }
   ],
   "source": [
    "# Create DataFrame for Confusion Matrix (RF+TFIDF)\n",
    "cm_df = pd.DataFrame(cm, \n",
    "             columns=['Predicted Cats', 'Predicted Dogs'], \n",
    "             index=['Actual Cats', 'Actual Dogs'])\n",
    "cm_df"
   ]
  },
  {
   "cell_type": "code",
   "execution_count": 54,
   "id": "ce1ef340",
   "metadata": {
    "scrolled": true
   },
   "outputs": [
    {
     "name": "stdout",
     "output_type": "stream",
     "text": [
      "\n",
      "Accuracy:  0.9565217391304348\n",
      "Sensitivity:  0.933378196500673\n",
      "Specificity:  0.9795644891122278\n",
      "Precision:  0.9784832451499118\n",
      "Misclassification rate:  0.043478260869565216\n"
     ]
    }
   ],
   "source": [
    "print(\"\\nAccuracy: \", (tn + tp) / (tn + fp + fn + tp))\n",
    "print(\"Sensitivity: \", tp / (tp + fn))\n",
    "print(\"Specificity: \", tn / (tn + fp))\n",
    "print(\"Precision: \", tp / (tp + fp))\n",
    "print(\"Misclassification rate: \",  (fp + fn) / (tn + fp + fn + tp))"
   ]
  },
  {
   "cell_type": "markdown",
   "id": "b4a72acb",
   "metadata": {},
   "source": [
    "### `Naive Bayes` + `Count Vectorizer`"
   ]
  },
  {
   "cell_type": "code",
   "execution_count": 55,
   "id": "a05141a7",
   "metadata": {},
   "outputs": [],
   "source": [
    "# Set up pipeline\n",
    "pipe_nb_c = Pipeline([\n",
    "    ('cvec', CountVectorizer(stop_words='english')),\n",
    "    ('nb', MultinomialNB())])"
   ]
  },
  {
   "cell_type": "code",
   "execution_count": 56,
   "id": "9a748a57",
   "metadata": {},
   "outputs": [],
   "source": [
    "pipe_params = {\n",
    "    'cvec__max_features': [4_000],\n",
    "    'cvec__min_df': [2],\n",
    "    'cvec__max_df': [.9],\n",
    "    'cvec__ngram_range': [(1,2)]\n",
    "}"
   ]
  },
  {
   "cell_type": "code",
   "execution_count": 57,
   "id": "fbb227c3",
   "metadata": {},
   "outputs": [],
   "source": [
    "# Instantiate GridSearchCV.\n",
    "\n",
    "gs_nb_c = GridSearchCV(pipe_nb_c, \n",
    "                  param_grid=pipe_params, \n",
    "                  cv=5) # 5-fold cross-validation."
   ]
  },
  {
   "cell_type": "code",
   "execution_count": 58,
   "id": "41512b85",
   "metadata": {
    "scrolled": true
   },
   "outputs": [
    {
     "data": {
      "text/plain": [
       "GridSearchCV(cv=5,\n",
       "             estimator=Pipeline(steps=[('cvec',\n",
       "                                        CountVectorizer(stop_words='english')),\n",
       "                                       ('nb', MultinomialNB())]),\n",
       "             param_grid={'cvec__max_df': [0.9], 'cvec__max_features': [4000],\n",
       "                         'cvec__min_df': [2], 'cvec__ngram_range': [(1, 2)]})"
      ]
     },
     "execution_count": 58,
     "metadata": {},
     "output_type": "execute_result"
    }
   ],
   "source": [
    "# Fit GridSearch\n",
    "gs_nb_c.fit(X_test, y_test)"
   ]
  },
  {
   "cell_type": "code",
   "execution_count": 59,
   "id": "81b0ce24",
   "metadata": {},
   "outputs": [],
   "source": [
    "preds = gs_nb_c.predict(X_test)\n",
    "cm = confusion_matrix(y_test, preds)\n",
    "tn, fp, fn, tp = confusion_matrix(y_test, preds).ravel()"
   ]
  },
  {
   "cell_type": "code",
   "execution_count": 60,
   "id": "16affba6",
   "metadata": {
    "scrolled": false
   },
   "outputs": [
    {
     "data": {
      "text/html": [
       "<div>\n",
       "<style scoped>\n",
       "    .dataframe tbody tr th:only-of-type {\n",
       "        vertical-align: middle;\n",
       "    }\n",
       "\n",
       "    .dataframe tbody tr th {\n",
       "        vertical-align: top;\n",
       "    }\n",
       "\n",
       "    .dataframe thead th {\n",
       "        text-align: right;\n",
       "    }\n",
       "</style>\n",
       "<table border=\"1\" class=\"dataframe\">\n",
       "  <thead>\n",
       "    <tr style=\"text-align: right;\">\n",
       "      <th></th>\n",
       "      <th>Predicted Cats</th>\n",
       "      <th>Predicted Dogs</th>\n",
       "    </tr>\n",
       "  </thead>\n",
       "  <tbody>\n",
       "    <tr>\n",
       "      <th>Actual Cats</th>\n",
       "      <td>2858</td>\n",
       "      <td>127</td>\n",
       "    </tr>\n",
       "    <tr>\n",
       "      <th>Actual Dogs</th>\n",
       "      <td>185</td>\n",
       "      <td>2787</td>\n",
       "    </tr>\n",
       "  </tbody>\n",
       "</table>\n",
       "</div>"
      ],
      "text/plain": [
       "             Predicted Cats  Predicted Dogs\n",
       "Actual Cats            2858             127\n",
       "Actual Dogs             185            2787"
      ]
     },
     "execution_count": 60,
     "metadata": {},
     "output_type": "execute_result"
    }
   ],
   "source": [
    "# Create DataFrame for Confusion Matrix\n",
    "cm_df = pd.DataFrame(cm, \n",
    "             columns=['Predicted Cats', 'Predicted Dogs'], \n",
    "             index=['Actual Cats', 'Actual Dogs'])\n",
    "cm_df"
   ]
  },
  {
   "cell_type": "code",
   "execution_count": 61,
   "id": "23ed5d83",
   "metadata": {
    "scrolled": true
   },
   "outputs": [
    {
     "name": "stdout",
     "output_type": "stream",
     "text": [
      "\n",
      "Accuracy:  0.9476246432768172\n",
      "Sensitivity:  0.9377523553162853\n",
      "Specificity:  0.9574539363484087\n",
      "Precision:  0.956417295813315\n",
      "Misclassification rate:  0.05237535672318281\n"
     ]
    }
   ],
   "source": [
    "print(\"\\nAccuracy: \", (tn + tp) / (tn + fp + fn + tp))\n",
    "print(\"Sensitivity: \", tp / (tp + fn))\n",
    "print(\"Specificity: \", tn / (tn + fp))\n",
    "print(\"Precision: \", tp / (tp + fp))\n",
    "print(\"Misclassification rate: \",  (fp + fn) / (tn + fp + fn + tp))"
   ]
  },
  {
   "cell_type": "code",
   "execution_count": 62,
   "id": "ff14a59a",
   "metadata": {},
   "outputs": [
    {
     "data": {
      "text/plain": [
       "0.9109288438017124"
      ]
     },
     "execution_count": 62,
     "metadata": {},
     "output_type": "execute_result"
    }
   ],
   "source": [
    "# Score model on train data\n",
    "gs_nb_c.score(X_train, y_train)"
   ]
  },
  {
   "cell_type": "code",
   "execution_count": 63,
   "id": "95739dca",
   "metadata": {},
   "outputs": [
    {
     "data": {
      "text/plain": [
       "0.9476246432768172"
      ]
     },
     "execution_count": 63,
     "metadata": {},
     "output_type": "execute_result"
    }
   ],
   "source": [
    "# Score model on test data\n",
    "gs_nb_c.score(X_test, y_test)"
   ]
  },
  {
   "cell_type": "markdown",
   "id": "13874ba9",
   "metadata": {},
   "source": [
    "|Model|Training Score|Test Score/Accuracy|Vectorizer|\n",
    "|---|---|---|---|\n",
    "|Random Forest|0.8895|0.9565|TFIDF|\n",
    "|Naive Bayes|0.9109|0.9476|CountVectorizer|"
   ]
  },
  {
   "cell_type": "markdown",
   "id": "d8296a12",
   "metadata": {},
   "source": [
    "Both models perform rather well in fitting with the training data, but the Naive Bayes model scoring better by 2%. There is more underfitting in the Random Forest model, however the test data is able to fit the model much better than on the Naive Bayes model.\n",
    "\n",
    "With such close scores, we can look towards the Confusion Matrix. In this problem, I base it on the Accuracy of the models. This means that we wanted to predict that future posts in r/cats and r/dogs would be correctly predicted into their subreddits.\n",
    "\n",
    "This is important for the model to do so - which allows us to ensure that our business model (eventually selected by CatDog) remains relevant and popular. If, in the event that the accuracy is no longer high, there needs to be a tweaking of the parameters in order to suit the changes within the subreddits.\n",
    "\n",
    "\n",
    "Therefore, we will use Random Forest + Tfidf Vectorizer."
   ]
  },
  {
   "cell_type": "markdown",
   "id": "e8daf065",
   "metadata": {},
   "source": [
    "### Improvements to the Model\n",
    "<br>\n",
    "<li> For modeling rigor, literal subreddit name references should have been removed as individual words (e.g. \"dog\", \"cat\") were left in earlier on.\n",
    "<li>Having posts with more unique words helps to distinguish between spam and ham but;\n",
    "<li>Not all posts with unique words are relevant, so we have to focus more on the coefficient of frequently appearing words\n",
    "<li> Perhaps this project could be improved by performing a form of sentiment analysis on the data in future studies. Lastly, though this model scored only around ~ 90% accuracy on testing data, this model still predicts much better than the baseline (~ 50.6%) and might be helpful in differentiating between dogs and cats.\n",
    "<li> Further analysis can be done on the emojis within the titles."
   ]
  },
  {
   "cell_type": "markdown",
   "id": "cadba245",
   "metadata": {},
   "source": [
    "### Business Recommendations\n",
    "<br>\n",
    "<li>Explore other forums that are more local e.g. Hardwarezone because Reddit posts are more global and may not attune well to local context even though CatDog wants to reach out to an international clientele. Starting small within the local context would be a better way to 'taste' the market first.\n",
    "<li>r/dogs - more practical and ‘discussion’ driven\n",
    "Create consultancy and onboarding services for new dog owners\n",
    "<li>If interested to bring in breeds, the top words can signify the popular ones among dog lovers\n",
    "<li>r/cats - sharing of digital media\n",
    "Grooming services or venture into F&B (e.g. cat café)\n",
    "<li>Usage of Words for Impactful Marketing - based on the violin plots, words in marketing tools should target to have unique words for r/dogs < 8 and r/cats < 5. As a base guideline, marketing the business model should fit the behaviour of the posters within the subreddit."
   ]
  },
  {
   "cell_type": "markdown",
   "id": "574df60c",
   "metadata": {},
   "source": [
    "### Conclusion\n",
    "Why Random Forest? It provides higher accuracy through cross validation. Random forest classifier will handle the missing values and maintain the accuracy of a large proportion of data. This will be useful to upscale the model, especially to scrape more than 10,000 per subreddit. If there are more trees, it won’t allow over-fitting trees in the model. It has the power to handle a large data set with higher dimensionality."
   ]
  },
  {
   "cell_type": "code",
   "execution_count": null,
   "id": "3960e84b",
   "metadata": {},
   "outputs": [],
   "source": []
  }
 ],
 "metadata": {
  "kernelspec": {
   "display_name": "Python 3",
   "language": "python",
   "name": "python3"
  },
  "language_info": {
   "codemirror_mode": {
    "name": "ipython",
    "version": 3
   },
   "file_extension": ".py",
   "mimetype": "text/x-python",
   "name": "python",
   "nbconvert_exporter": "python",
   "pygments_lexer": "ipython3",
   "version": "3.8.8"
  }
 },
 "nbformat": 4,
 "nbformat_minor": 5
}
