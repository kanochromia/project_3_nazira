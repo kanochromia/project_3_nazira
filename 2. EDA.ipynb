{
 "cells": [
  {
   "cell_type": "code",
   "execution_count": 1,
   "id": "91270218",
   "metadata": {},
   "outputs": [],
   "source": [
    "# load packages\n",
    "import matplotlib.pyplot as plt\n",
    "import pandas as pd\n",
    "import numpy as np\n",
    "\n",
    "from sklearn.feature_extraction.text import CountVectorizer\n",
    "\n",
    "pd.options.display.max_colwidth = 400"
   ]
  },
  {
   "cell_type": "markdown",
   "id": "bf928c38",
   "metadata": {},
   "source": [
    "### Load Data (Cats and Dogs)"
   ]
  },
  {
   "cell_type": "code",
   "execution_count": 2,
   "id": "802fb168",
   "metadata": {},
   "outputs": [],
   "source": [
    "df_cats = pd.read_csv('cats.csv')\n",
    "df_dogs = pd.read_csv('dogs.csv')"
   ]
  },
  {
   "cell_type": "code",
   "execution_count": 3,
   "id": "687106ea",
   "metadata": {},
   "outputs": [
    {
     "data": {
      "text/html": [
       "<div>\n",
       "<style scoped>\n",
       "    .dataframe tbody tr th:only-of-type {\n",
       "        vertical-align: middle;\n",
       "    }\n",
       "\n",
       "    .dataframe tbody tr th {\n",
       "        vertical-align: top;\n",
       "    }\n",
       "\n",
       "    .dataframe thead th {\n",
       "        text-align: right;\n",
       "    }\n",
       "</style>\n",
       "<table border=\"1\" class=\"dataframe\">\n",
       "  <thead>\n",
       "    <tr style=\"text-align: right;\">\n",
       "      <th></th>\n",
       "      <th>subreddit</th>\n",
       "      <th>title</th>\n",
       "    </tr>\n",
       "  </thead>\n",
       "  <tbody>\n",
       "    <tr>\n",
       "      <th>0</th>\n",
       "      <td>cats</td>\n",
       "      <td>I came home sick from work with pneumonia. Here is where I found my wife's cat watching TV then noticing me taking pictures.</td>\n",
       "    </tr>\n",
       "    <tr>\n",
       "      <th>1</th>\n",
       "      <td>cats</td>\n",
       "      <td>My sleepyhead curled up this morning</td>\n",
       "    </tr>\n",
       "    <tr>\n",
       "      <th>2</th>\n",
       "      <td>cats</td>\n",
       "      <td>Spooky takes care of me when I WFH, who needs HR when you've got H-Aww?!</td>\n",
       "    </tr>\n",
       "    <tr>\n",
       "      <th>3</th>\n",
       "      <td>cats</td>\n",
       "      <td>Hi! I am a new cat mom and am hoping someone might have experience with something similar to my cats ear. Details in post comments.</td>\n",
       "    </tr>\n",
       "    <tr>\n",
       "      <th>4</th>\n",
       "      <td>cats</td>\n",
       "      <td>Spooky looks after me when I WFH, who needs a HR department when you can have a H-Aww department?</td>\n",
       "    </tr>\n",
       "  </tbody>\n",
       "</table>\n",
       "</div>"
      ],
      "text/plain": [
       "  subreddit  \\\n",
       "0      cats   \n",
       "1      cats   \n",
       "2      cats   \n",
       "3      cats   \n",
       "4      cats   \n",
       "\n",
       "                                                                                                                                 title  \n",
       "0         I came home sick from work with pneumonia. Here is where I found my wife's cat watching TV then noticing me taking pictures.  \n",
       "1                                                                                                 My sleepyhead curled up this morning  \n",
       "2                                                             Spooky takes care of me when I WFH, who needs HR when you've got H-Aww?!  \n",
       "3  Hi! I am a new cat mom and am hoping someone might have experience with something similar to my cats ear. Details in post comments.  \n",
       "4                                    Spooky looks after me when I WFH, who needs a HR department when you can have a H-Aww department?  "
      ]
     },
     "execution_count": 3,
     "metadata": {},
     "output_type": "execute_result"
    }
   ],
   "source": [
    "df_cats = df_cats.drop(columns='Unnamed: 0')\n",
    "df_cats.head()"
   ]
  },
  {
   "cell_type": "code",
   "execution_count": 4,
   "id": "0d433dff",
   "metadata": {},
   "outputs": [
    {
     "data": {
      "text/html": [
       "<div>\n",
       "<style scoped>\n",
       "    .dataframe tbody tr th:only-of-type {\n",
       "        vertical-align: middle;\n",
       "    }\n",
       "\n",
       "    .dataframe tbody tr th {\n",
       "        vertical-align: top;\n",
       "    }\n",
       "\n",
       "    .dataframe thead th {\n",
       "        text-align: right;\n",
       "    }\n",
       "</style>\n",
       "<table border=\"1\" class=\"dataframe\">\n",
       "  <thead>\n",
       "    <tr style=\"text-align: right;\">\n",
       "      <th></th>\n",
       "      <th>subreddit</th>\n",
       "      <th>title</th>\n",
       "    </tr>\n",
       "  </thead>\n",
       "  <tbody>\n",
       "    <tr>\n",
       "      <th>0</th>\n",
       "      <td>dogs</td>\n",
       "      <td>My dog bites himself</td>\n",
       "    </tr>\n",
       "    <tr>\n",
       "      <th>1</th>\n",
       "      <td>dogs</td>\n",
       "      <td>How do you keep your dogs passively stimulated?</td>\n",
       "    </tr>\n",
       "    <tr>\n",
       "      <th>2</th>\n",
       "      <td>dogs</td>\n",
       "      <td>Dog's Sleeping Behavior Changed with Pregnant Wife</td>\n",
       "    </tr>\n",
       "    <tr>\n",
       "      <th>3</th>\n",
       "      <td>dogs</td>\n",
       "      <td>Soft food diet after surgery</td>\n",
       "    </tr>\n",
       "    <tr>\n",
       "      <th>4</th>\n",
       "      <td>dogs</td>\n",
       "      <td>Does anyone know much about Intracranial Arachnoid Cysts?</td>\n",
       "    </tr>\n",
       "  </tbody>\n",
       "</table>\n",
       "</div>"
      ],
      "text/plain": [
       "  subreddit                                                      title\n",
       "0      dogs                                       My dog bites himself\n",
       "1      dogs            How do you keep your dogs passively stimulated?\n",
       "2      dogs         Dog's Sleeping Behavior Changed with Pregnant Wife\n",
       "3      dogs                               Soft food diet after surgery\n",
       "4      dogs  Does anyone know much about Intracranial Arachnoid Cysts?"
      ]
     },
     "execution_count": 4,
     "metadata": {},
     "output_type": "execute_result"
    }
   ],
   "source": [
    "df_dogs = df_dogs.drop(columns='Unnamed: 0')\n",
    "df_dogs.head()"
   ]
  },
  {
   "cell_type": "markdown",
   "id": "a2b7d94a",
   "metadata": {},
   "source": [
    "### EDA on Titles"
   ]
  },
  {
   "cell_type": "code",
   "execution_count": 5,
   "id": "11f73bc8",
   "metadata": {},
   "outputs": [],
   "source": [
    "df_cats['title_length'] = df_cats['title'].map(len)"
   ]
  },
  {
   "cell_type": "code",
   "execution_count": 6,
   "id": "d02a4394",
   "metadata": {},
   "outputs": [],
   "source": [
    "df_cats['title_word_count'] = df_cats['title'].map(lambda x: len(x.split()))"
   ]
  },
  {
   "cell_type": "markdown",
   "id": "bb6e8d5d",
   "metadata": {},
   "source": [
    "### Longest and Shortest Titles"
   ]
  },
  {
   "cell_type": "code",
   "execution_count": 7,
   "id": "a2dd877c",
   "metadata": {},
   "outputs": [
    {
     "data": {
      "text/html": [
       "<div>\n",
       "<style scoped>\n",
       "    .dataframe tbody tr th:only-of-type {\n",
       "        vertical-align: middle;\n",
       "    }\n",
       "\n",
       "    .dataframe tbody tr th {\n",
       "        vertical-align: top;\n",
       "    }\n",
       "\n",
       "    .dataframe thead th {\n",
       "        text-align: right;\n",
       "    }\n",
       "</style>\n",
       "<table border=\"1\" class=\"dataframe\">\n",
       "  <thead>\n",
       "    <tr style=\"text-align: right;\">\n",
       "      <th></th>\n",
       "      <th>title</th>\n",
       "    </tr>\n",
       "  </thead>\n",
       "  <tbody>\n",
       "    <tr>\n",
       "      <th>4997</th>\n",
       "      <td>Inquisitive&amp;lt;3</td>\n",
       "    </tr>\n",
       "    <tr>\n",
       "      <th>4909</th>\n",
       "      <td>Brothers</td>\n",
       "    </tr>\n",
       "    <tr>\n",
       "      <th>4953</th>\n",
       "      <td>catloaf</td>\n",
       "    </tr>\n",
       "    <tr>\n",
       "      <th>4960</th>\n",
       "      <td>Cider!</td>\n",
       "    </tr>\n",
       "    <tr>\n",
       "      <th>9934</th>\n",
       "      <td>Sleepy</td>\n",
       "    </tr>\n",
       "  </tbody>\n",
       "</table>\n",
       "</div>"
      ],
      "text/plain": [
       "                 title\n",
       "4997  Inquisitive&lt;3\n",
       "4909          Brothers\n",
       "4953           catloaf\n",
       "4960            Cider!\n",
       "9934            Sleepy"
      ]
     },
     "execution_count": 7,
     "metadata": {},
     "output_type": "execute_result"
    }
   ],
   "source": [
    "df_cats.sort_values(by='title_word_count', ascending = True)[['title']].head()"
   ]
  },
  {
   "cell_type": "code",
   "execution_count": 8,
   "id": "e9da8b86",
   "metadata": {},
   "outputs": [
    {
     "data": {
      "text/html": [
       "<div>\n",
       "<style scoped>\n",
       "    .dataframe tbody tr th:only-of-type {\n",
       "        vertical-align: middle;\n",
       "    }\n",
       "\n",
       "    .dataframe tbody tr th {\n",
       "        vertical-align: top;\n",
       "    }\n",
       "\n",
       "    .dataframe thead th {\n",
       "        text-align: right;\n",
       "    }\n",
       "</style>\n",
       "<table border=\"1\" class=\"dataframe\">\n",
       "  <thead>\n",
       "    <tr style=\"text-align: right;\">\n",
       "      <th></th>\n",
       "      <th>title</th>\n",
       "    </tr>\n",
       "  </thead>\n",
       "  <tbody>\n",
       "    <tr>\n",
       "      <th>2396</th>\n",
       "      <td>This is Maximus. He is 13, used to sleep in our room but has started to wake us up at 0330 for food &amp;amp; not when we get up. He plays with the door knob, pushes against the door, &amp;amp; meows incessantly. We've tried tape on the door knob, tin foil in front of the door, a fan to drown him out. Any ideas?</td>\n",
       "    </tr>\n",
       "    <tr>\n",
       "      <th>8825</th>\n",
       "      <td>I'm traveling now and I miss Piu, 10yo. Last time we hugged was Dec 13 and I sent him to my grandmas farm where he's safe. I swear I'm dying from too much saudade, I even cried in here some days. I'm grateful for having him as my friend since day 1 of his life and I want to share it with you.</td>\n",
       "    </tr>\n",
       "    <tr>\n",
       "      <th>3790</th>\n",
       "      <td>Two days ago we found this stray cat, we noticed that his eyes are not well, and also he sleeps a lot and spends a lot of time resting. I would like someone to please tell me what is happening to him, as we live far away from the city, and at this time of the year all the vets are on vacation.</td>\n",
       "    </tr>\n",
       "    <tr>\n",
       "      <th>214</th>\n",
       "      <td>Been away from home for two days now and today I hear one of my boys had passed away. Not only did it ruin my entire day but has left my heart aching and left me feverish. I dont know how to cope with this and I don't know how his only sibling has been coping with his death either. RIP little one</td>\n",
       "    </tr>\n",
       "    <tr>\n",
       "      <th>5074</th>\n",
       "      <td>This is Sirius Black. He is 3 months old. He was left to die on my front yard and my mom found him. We decided to foster him but found out he couldn't pee, so I took him to the vet, he had to go under surgery and now he has a pee collector (?) in his belly. Finally, I adopted him!</td>\n",
       "    </tr>\n",
       "  </tbody>\n",
       "</table>\n",
       "</div>"
      ],
      "text/plain": [
       "                                                                                                                                                                                                                                                                                                                  title\n",
       "2396  This is Maximus. He is 13, used to sleep in our room but has started to wake us up at 0330 for food &amp; not when we get up. He plays with the door knob, pushes against the door, &amp; meows incessantly. We've tried tape on the door knob, tin foil in front of the door, a fan to drown him out. Any ideas?\n",
       "8825              I'm traveling now and I miss Piu, 10yo. Last time we hugged was Dec 13 and I sent him to my grandmas farm where he's safe. I swear I'm dying from too much saudade, I even cried in here some days. I'm grateful for having him as my friend since day 1 of his life and I want to share it with you.\n",
       "3790             Two days ago we found this stray cat, we noticed that his eyes are not well, and also he sleeps a lot and spends a lot of time resting. I would like someone to please tell me what is happening to him, as we live far away from the city, and at this time of the year all the vets are on vacation.\n",
       "214           Been away from home for two days now and today I hear one of my boys had passed away. Not only did it ruin my entire day but has left my heart aching and left me feverish. I dont know how to cope with this and I don't know how his only sibling has been coping with his death either. RIP little one\n",
       "5074                          This is Sirius Black. He is 3 months old. He was left to die on my front yard and my mom found him. We decided to foster him but found out he couldn't pee, so I took him to the vet, he had to go under surgery and now he has a pee collector (?) in his belly. Finally, I adopted him!"
      ]
     },
     "execution_count": 8,
     "metadata": {},
     "output_type": "execute_result"
    }
   ],
   "source": [
    "df_cats.sort_values(by='title_word_count', ascending=False)[['title']].head()"
   ]
  },
  {
   "cell_type": "markdown",
   "id": "861a2d6c",
   "metadata": {},
   "source": [
    "### Distribution of Title Lengths and Title Word Counts"
   ]
  },
  {
   "cell_type": "code",
   "execution_count": 9,
   "id": "6715c932",
   "metadata": {},
   "outputs": [],
   "source": [
    "import seaborn as sns"
   ]
  },
  {
   "cell_type": "code",
   "execution_count": 68,
   "id": "e9a350cd",
   "metadata": {},
   "outputs": [
    {
     "data": {
      "text/plain": [
       "<AxesSubplot:xlabel='Cats - Title Word Count'>"
      ]
     },
     "execution_count": 68,
     "metadata": {},
     "output_type": "execute_result"
    },
    {
     "data": {
      "image/png": "[encoded data removed]",
      "text/plain": [
       "<Figure size 432x288 with 1 Axes>"
      ]
     },
     "metadata": {
      "needs_background": "light"
     },
     "output_type": "display_data"
    }
   ],
   "source": [
    "sns.distplot(df_cats['title_word_count'],\n",
    "             axlabel='Cats - Title Word Count',\n",
    "             kde=False)"
   ]
  },
  {
   "cell_type": "code",
   "execution_count": 69,
   "id": "3bb02012",
   "metadata": {},
   "outputs": [
    {
     "data": {
      "text/plain": [
       "<AxesSubplot:xlabel='Cats - Title Length'>"
      ]
     },
     "execution_count": 69,
     "metadata": {},
     "output_type": "execute_result"
    },
    {
     "data": {
      "image/png": "[encoded data removed]",
      "text/plain": [
       "<Figure size 432x288 with 1 Axes>"
      ]
     },
     "metadata": {
      "needs_background": "light"
     },
     "output_type": "display_data"
    }
   ],
   "source": [
    "sns.distplot(df_cats['title_length'],\n",
    "             axlabel = 'Cats - Title Length',\n",
    "             kde=False)"
   ]
  },
  {
   "cell_type": "markdown",
   "id": "d57000c5",
   "metadata": {},
   "source": [
    "## Clean and Tokenise (Cats)"
   ]
  },
  {
   "cell_type": "code",
   "execution_count": 12,
   "id": "c27719f6",
   "metadata": {},
   "outputs": [],
   "source": [
    "# !pip install nltk"
   ]
  },
  {
   "cell_type": "code",
   "execution_count": 13,
   "id": "dda9a1de",
   "metadata": {},
   "outputs": [],
   "source": [
    "df_cats['title'] = df_cats['title'].str.replace(r'[^\\w\\s]+', '', regex = True)\n",
    "df_cats['title'] = [x.lower() for x in df_cats['title']]"
   ]
  },
  {
   "cell_type": "code",
   "execution_count": 14,
   "id": "3b2138d9",
   "metadata": {},
   "outputs": [],
   "source": [
    "# manually removing capitals and splitting into words\n",
    "df_cats['words'] = [x.split() for x in df_cats['title']]"
   ]
  },
  {
   "cell_type": "code",
   "execution_count": 15,
   "id": "ed69dfbd",
   "metadata": {},
   "outputs": [
    {
     "data": {
      "text/html": [
       "<div>\n",
       "<style scoped>\n",
       "    .dataframe tbody tr th:only-of-type {\n",
       "        vertical-align: middle;\n",
       "    }\n",
       "\n",
       "    .dataframe tbody tr th {\n",
       "        vertical-align: top;\n",
       "    }\n",
       "\n",
       "    .dataframe thead th {\n",
       "        text-align: right;\n",
       "    }\n",
       "</style>\n",
       "<table border=\"1\" class=\"dataframe\">\n",
       "  <thead>\n",
       "    <tr style=\"text-align: right;\">\n",
       "      <th></th>\n",
       "      <th>subreddit</th>\n",
       "      <th>title</th>\n",
       "      <th>title_length</th>\n",
       "      <th>title_word_count</th>\n",
       "      <th>words</th>\n",
       "    </tr>\n",
       "  </thead>\n",
       "  <tbody>\n",
       "    <tr>\n",
       "      <th>0</th>\n",
       "      <td>cats</td>\n",
       "      <td>i came home sick from work with pneumonia here is where i found my wifes cat watching tv then noticing me taking pictures</td>\n",
       "      <td>124</td>\n",
       "      <td>23</td>\n",
       "      <td>[i, came, home, sick, from, work, with, pneumonia, here, is, where, i, found, my, wifes, cat, watching, tv, then, noticing, me, taking, pictures]</td>\n",
       "    </tr>\n",
       "    <tr>\n",
       "      <th>1</th>\n",
       "      <td>cats</td>\n",
       "      <td>my sleepyhead curled up this morning</td>\n",
       "      <td>36</td>\n",
       "      <td>6</td>\n",
       "      <td>[my, sleepyhead, curled, up, this, morning]</td>\n",
       "    </tr>\n",
       "    <tr>\n",
       "      <th>2</th>\n",
       "      <td>cats</td>\n",
       "      <td>spooky takes care of me when i wfh who needs hr when youve got haww</td>\n",
       "      <td>72</td>\n",
       "      <td>15</td>\n",
       "      <td>[spooky, takes, care, of, me, when, i, wfh, who, needs, hr, when, youve, got, haww]</td>\n",
       "    </tr>\n",
       "    <tr>\n",
       "      <th>3</th>\n",
       "      <td>cats</td>\n",
       "      <td>hi i am a new cat mom and am hoping someone might have experience with something similar to my cats ear details in post comments</td>\n",
       "      <td>131</td>\n",
       "      <td>25</td>\n",
       "      <td>[hi, i, am, a, new, cat, mom, and, am, hoping, someone, might, have, experience, with, something, similar, to, my, cats, ear, details, in, post, comments]</td>\n",
       "    </tr>\n",
       "    <tr>\n",
       "      <th>4</th>\n",
       "      <td>cats</td>\n",
       "      <td>spooky looks after me when i wfh who needs a hr department when you can have a haww department</td>\n",
       "      <td>97</td>\n",
       "      <td>19</td>\n",
       "      <td>[spooky, looks, after, me, when, i, wfh, who, needs, a, hr, department, when, you, can, have, a, haww, department]</td>\n",
       "    </tr>\n",
       "  </tbody>\n",
       "</table>\n",
       "</div>"
      ],
      "text/plain": [
       "  subreddit  \\\n",
       "0      cats   \n",
       "1      cats   \n",
       "2      cats   \n",
       "3      cats   \n",
       "4      cats   \n",
       "\n",
       "                                                                                                                              title  \\\n",
       "0         i came home sick from work with pneumonia here is where i found my wifes cat watching tv then noticing me taking pictures   \n",
       "1                                                                                              my sleepyhead curled up this morning   \n",
       "2                                                               spooky takes care of me when i wfh who needs hr when youve got haww   \n",
       "3  hi i am a new cat mom and am hoping someone might have experience with something similar to my cats ear details in post comments   \n",
       "4                                    spooky looks after me when i wfh who needs a hr department when you can have a haww department   \n",
       "\n",
       "   title_length  title_word_count  \\\n",
       "0           124                23   \n",
       "1            36                 6   \n",
       "2            72                15   \n",
       "3           131                25   \n",
       "4            97                19   \n",
       "\n",
       "                                                                                                                                                        words  \n",
       "0           [i, came, home, sick, from, work, with, pneumonia, here, is, where, i, found, my, wifes, cat, watching, tv, then, noticing, me, taking, pictures]  \n",
       "1                                                                                                                 [my, sleepyhead, curled, up, this, morning]  \n",
       "2                                                                         [spooky, takes, care, of, me, when, i, wfh, who, needs, hr, when, youve, got, haww]  \n",
       "3  [hi, i, am, a, new, cat, mom, and, am, hoping, someone, might, have, experience, with, something, similar, to, my, cats, ear, details, in, post, comments]  \n",
       "4                                          [spooky, looks, after, me, when, i, wfh, who, needs, a, hr, department, when, you, can, have, a, haww, department]  "
      ]
     },
     "execution_count": 15,
     "metadata": {},
     "output_type": "execute_result"
    }
   ],
   "source": [
    "df_cats.head()"
   ]
  },
  {
   "cell_type": "markdown",
   "id": "42dca39a",
   "metadata": {},
   "source": [
    "## EDA"
   ]
  },
  {
   "cell_type": "code",
   "execution_count": 16,
   "id": "33186a88",
   "metadata": {},
   "outputs": [],
   "source": [
    "cv = CountVectorizer(stop_words='english', min_df=3)\n",
    "cv.fit(df_cats['title'])\n",
    "\n",
    "status_cv = cv.transform(df_cats['title'])\n",
    "status_df = pd.DataFrame(status_cv.todense(), columns=cv.get_feature_names())"
   ]
  },
  {
   "cell_type": "markdown",
   "id": "fc2dbf1b",
   "metadata": {},
   "source": [
    "### Show the 15 most common words"
   ]
  },
  {
   "cell_type": "code",
   "execution_count": 17,
   "id": "7efdb82e",
   "metadata": {},
   "outputs": [
    {
     "data": {
      "text/plain": [
       "cat       2818\n",
       "cats       726\n",
       "new        612\n",
       "just       499\n",
       "like       428\n",
       "little     402\n",
       "year       380\n",
       "kitten     333\n",
       "im         304\n",
       "old        298\n",
       "kitty      285\n",
       "got        285\n",
       "love       284\n",
       "happy      278\n",
       "help       272\n",
       "dtype: int64"
      ]
     },
     "execution_count": 17,
     "metadata": {},
     "output_type": "execute_result"
    }
   ],
   "source": [
    "status_df.sum().sort_values(ascending=False).head(15)"
   ]
  },
  {
   "cell_type": "markdown",
   "id": "898126e4",
   "metadata": {},
   "source": [
    "### Show the 15 frequency of the most common words as a bar chart"
   ]
  },
  {
   "cell_type": "code",
   "execution_count": 77,
   "id": "e67a0fa9",
   "metadata": {},
   "outputs": [
    {
     "data": {
      "text/plain": [
       "<AxesSubplot:ylabel='15 Most Common Words (Cats)'>"
      ]
     },
     "execution_count": 77,
     "metadata": {},
     "output_type": "execute_result"
    },
    {
     "data": {
      "image/png": "[encoded data removed]",
      "text/plain": [
       "<Figure size 432x288 with 1 Axes>"
      ]
     },
     "metadata": {
      "needs_background": "light"
     },
     "output_type": "display_data"
    }
   ],
   "source": [
    "status_df.sum().sort_values(ascending=False).head(15).plot(kind='barh', xlabel ='15 Most Common Words (Cats)')"
   ]
  },
  {
   "cell_type": "markdown",
   "id": "4ee180b9",
   "metadata": {},
   "source": [
    "### Most Common Bigrams"
   ]
  },
  {
   "cell_type": "code",
   "execution_count": 19,
   "id": "22119c9c",
   "metadata": {},
   "outputs": [
    {
     "data": {
      "text/plain": [
       "new year       206\n",
       "happy new      152\n",
       "new years       78\n",
       "does cat        61\n",
       "year old        55\n",
       "months old      52\n",
       "litter box      46\n",
       "new cat         45\n",
       "looks like      44\n",
       "dont know       43\n",
       "years old       43\n",
       "new kitten      43\n",
       "month old       38\n",
       "best friend     37\n",
       "just wanted     36\n",
       "dtype: int64"
      ]
     },
     "execution_count": 19,
     "metadata": {},
     "output_type": "execute_result"
    }
   ],
   "source": [
    "cv_bigrams = CountVectorizer(ngram_range=(2, 2), stop_words='english')\n",
    "cv_bigrams.fit(df_cats['title'])\n",
    "\n",
    "bigrams_cv = cv_bigrams.transform(df_cats['title'])\n",
    "bigrams_df = pd.DataFrame(bigrams_cv.todense(), columns=cv_bigrams.get_feature_names())\n",
    "\n",
    "bigrams_df.sum().sort_values(ascending=False).head(15)"
   ]
  },
  {
   "cell_type": "code",
   "execution_count": 78,
   "id": "5a5f8b4d",
   "metadata": {},
   "outputs": [
    {
     "data": {
      "text/plain": [
       "<AxesSubplot:ylabel='15 Most Common Bigrams (Cats)'>"
      ]
     },
     "execution_count": 78,
     "metadata": {},
     "output_type": "execute_result"
    },
    {
     "data": {
      "image/png": "[encoded data removed]",
      "text/plain": [
       "<Figure size 432x288 with 1 Axes>"
      ]
     },
     "metadata": {
      "needs_background": "light"
     },
     "output_type": "display_data"
    }
   ],
   "source": [
    "bigrams_df.sum().sort_values(ascending=False).head(15).plot(kind='barh', xlabel='15 Most Common Bigrams (Cats)')"
   ]
  },
  {
   "cell_type": "markdown",
   "id": "e4247d49",
   "metadata": {},
   "source": [
    "### Most Common Trigrams"
   ]
  },
  {
   "cell_type": "code",
   "execution_count": 20,
   "id": "74e89bd0",
   "metadata": {},
   "outputs": [
    {
     "data": {
      "text/plain": [
       "happy new year       138\n",
       "new years eve         22\n",
       "just wanted share     19\n",
       "cat wont stop         15\n",
       "year old cat          13\n",
       "time cat owner        13\n",
       "happy new years       11\n",
       "wishes happy new      11\n",
       "month old kitten      10\n",
       "new years day          9\n",
       "does elses cat         9\n",
       "hello isnt cutest      8\n",
       "cat looks like         7\n",
       "new year cat           7\n",
       "new year new           7\n",
       "dtype: int64"
      ]
     },
     "execution_count": 20,
     "metadata": {},
     "output_type": "execute_result"
    }
   ],
   "source": [
    "cv_trigrams = CountVectorizer(ngram_range=(3, 3), stop_words='english')\n",
    "cv_trigrams.fit(df_cats['title'])\n",
    "\n",
    "trigrams_cv = cv_trigrams.transform(df_cats['title'])\n",
    "trigrams_df = pd.DataFrame(trigrams_cv.todense(), columns=cv_trigrams.get_feature_names())\n",
    "\n",
    "trigrams_df.sum().sort_values(ascending=False).head(15)"
   ]
  },
  {
   "cell_type": "code",
   "execution_count": 79,
   "id": "6e9bb806",
   "metadata": {},
   "outputs": [
    {
     "data": {
      "text/plain": [
       "<AxesSubplot:ylabel='15 Most Common Trigrams (Cats)'>"
      ]
     },
     "execution_count": 79,
     "metadata": {},
     "output_type": "execute_result"
    },
    {
     "data": {
      "image/png": "[encoded data removed]",
      "text/plain": [
       "<Figure size 432x288 with 1 Axes>"
      ]
     },
     "metadata": {
      "needs_background": "light"
     },
     "output_type": "display_data"
    }
   ],
   "source": [
    "trigrams_df.sum().sort_values(ascending=False).head(15).plot(kind='barh', xlabel = '15 Most Common Trigrams (Cats)')"
   ]
  },
  {
   "cell_type": "markdown",
   "id": "88f90155",
   "metadata": {},
   "source": [
    "---"
   ]
  },
  {
   "cell_type": "markdown",
   "id": "41df9454",
   "metadata": {},
   "source": [
    "## Dogs"
   ]
  },
  {
   "cell_type": "markdown",
   "id": "b8c1ae16",
   "metadata": {},
   "source": [
    "### EDA on Titles"
   ]
  },
  {
   "cell_type": "code",
   "execution_count": 21,
   "id": "df050a4e",
   "metadata": {},
   "outputs": [],
   "source": [
    "df_dogs['title_length'] = df_dogs['title'].map(len)"
   ]
  },
  {
   "cell_type": "code",
   "execution_count": 22,
   "id": "d2740f23",
   "metadata": {},
   "outputs": [],
   "source": [
    "df_dogs['title_word_count'] = df_dogs['title'].map(lambda x: len(x.split()))"
   ]
  },
  {
   "cell_type": "markdown",
   "id": "cf4183e7",
   "metadata": {},
   "source": [
    "### Longest and Shortest Statuses"
   ]
  },
  {
   "cell_type": "code",
   "execution_count": 23,
   "id": "e6664470",
   "metadata": {},
   "outputs": [
    {
     "data": {
      "text/html": [
       "<div>\n",
       "<style scoped>\n",
       "    .dataframe tbody tr th:only-of-type {\n",
       "        vertical-align: middle;\n",
       "    }\n",
       "\n",
       "    .dataframe tbody tr th {\n",
       "        vertical-align: top;\n",
       "    }\n",
       "\n",
       "    .dataframe thead th {\n",
       "        text-align: right;\n",
       "    }\n",
       "</style>\n",
       "<table border=\"1\" class=\"dataframe\">\n",
       "  <thead>\n",
       "    <tr style=\"text-align: right;\">\n",
       "      <th></th>\n",
       "      <th>title</th>\n",
       "    </tr>\n",
       "  </thead>\n",
       "  <tbody>\n",
       "    <tr>\n",
       "      <th>409</th>\n",
       "      <td>Tibi</td>\n",
       "    </tr>\n",
       "    <tr>\n",
       "      <th>5256</th>\n",
       "      <td>Help</td>\n",
       "    </tr>\n",
       "    <tr>\n",
       "      <th>1184</th>\n",
       "      <td>adoption</td>\n",
       "    </tr>\n",
       "    <tr>\n",
       "      <th>5228</th>\n",
       "      <td>Help!!!</td>\n",
       "    </tr>\n",
       "    <tr>\n",
       "      <th>4164</th>\n",
       "      <td>https://givesendgo.com/G2CXK?utm_source=sharelink&amp;amp;utm_medium=copy_link&amp;amp;utm_campaign=G2CXK</td>\n",
       "    </tr>\n",
       "  </tbody>\n",
       "</table>\n",
       "</div>"
      ],
      "text/plain": [
       "                                                                                                  title\n",
       "409                                                                                                Tibi\n",
       "5256                                                                                               Help\n",
       "1184                                                                                           adoption\n",
       "5228                                                                                            Help!!!\n",
       "4164  https://givesendgo.com/G2CXK?utm_source=sharelink&amp;utm_medium=copy_link&amp;utm_campaign=G2CXK"
      ]
     },
     "execution_count": 23,
     "metadata": {},
     "output_type": "execute_result"
    }
   ],
   "source": [
    "df_dogs.sort_values(by='title_word_count', ascending=True)[['title']].head()"
   ]
  },
  {
   "cell_type": "code",
   "execution_count": 24,
   "id": "68475ae4",
   "metadata": {},
   "outputs": [
    {
     "data": {
      "text/html": [
       "<div>\n",
       "<style scoped>\n",
       "    .dataframe tbody tr th:only-of-type {\n",
       "        vertical-align: middle;\n",
       "    }\n",
       "\n",
       "    .dataframe tbody tr th {\n",
       "        vertical-align: top;\n",
       "    }\n",
       "\n",
       "    .dataframe thead th {\n",
       "        text-align: right;\n",
       "    }\n",
       "</style>\n",
       "<table border=\"1\" class=\"dataframe\">\n",
       "  <thead>\n",
       "    <tr style=\"text-align: right;\">\n",
       "      <th></th>\n",
       "      <th>title</th>\n",
       "    </tr>\n",
       "  </thead>\n",
       "  <tbody>\n",
       "    <tr>\n",
       "      <th>5203</th>\n",
       "      <td>My dog chewed on a tube of Arm and Hammer advance white toothpaste and she just chewed on the cap and there’s minor teeth marks on the bottom. I think she maybe ingested like 1/16th of a tsp. She’s hasn’t shown any symptoms and it was like 4 hrs ago. I have like $40 to my name so idk what to do</td>\n",
       "    </tr>\n",
       "    <tr>\n",
       "      <th>6516</th>\n",
       "      <td>Hello guys! I'm wondering if you could please help me, my little girl Rosie who's a 10 year old Maltese x Yorkie has been developing these weird marks on her body which start off as just a mole and turn into a scab and then heal over but she keeps losing patches of her fur , please help me !</td>\n",
       "    </tr>\n",
       "    <tr>\n",
       "      <th>8963</th>\n",
       "      <td>Is 36 hours post laceration too late for stitches? My fiancé cut my Yorkie while giving him a haircut 2 inches under the anus. The cut was 24 hours ago but I have a surgery schedule in 12 hours from now. I am scare that stitching too late could cause an infection and that the cut won’t heal properly</td>\n",
       "    </tr>\n",
       "    <tr>\n",
       "      <th>1571</th>\n",
       "      <td>I've watched videos, read stuff, but somehow am still clueless about how to potty train my pup. My condition : he will live outside once older and for now he lives only in my room, I take him outside sometimes, at night it can get to 4-5 degree Celsius, keeping in mind a 7 week puppy. Please help.</td>\n",
       "    </tr>\n",
       "    <tr>\n",
       "      <th>6858</th>\n",
       "      <td>Help ! My ten month has food allergies. We just cleared him out from the last one,he was allergic to lamb but he’s reacting to another food now &amp;amp;&amp;amp; is super itchy. He has raw spots from licking &amp;amp;&amp;amp; scratching. Gonna take him to the vet Monday but is there anything I can do in the mean time?</td>\n",
       "    </tr>\n",
       "  </tbody>\n",
       "</table>\n",
       "</div>"
      ],
      "text/plain": [
       "                                                                                                                                                                                                                                                                                                                  title\n",
       "5203            My dog chewed on a tube of Arm and Hammer advance white toothpaste and she just chewed on the cap and there’s minor teeth marks on the bottom. I think she maybe ingested like 1/16th of a tsp. She’s hasn’t shown any symptoms and it was like 4 hrs ago. I have like $40 to my name so idk what to do\n",
       "6516               Hello guys! I'm wondering if you could please help me, my little girl Rosie who's a 10 year old Maltese x Yorkie has been developing these weird marks on her body which start off as just a mole and turn into a scab and then heal over but she keeps losing patches of her fur , please help me !\n",
       "8963       Is 36 hours post laceration too late for stitches? My fiancé cut my Yorkie while giving him a haircut 2 inches under the anus. The cut was 24 hours ago but I have a surgery schedule in 12 hours from now. I am scare that stitching too late could cause an infection and that the cut won’t heal properly\n",
       "1571         I've watched videos, read stuff, but somehow am still clueless about how to potty train my pup. My condition : he will live outside once older and for now he lives only in my room, I take him outside sometimes, at night it can get to 4-5 degree Celsius, keeping in mind a 7 week puppy. Please help.\n",
       "6858  Help ! My ten month has food allergies. We just cleared him out from the last one,he was allergic to lamb but he’s reacting to another food now &amp;&amp; is super itchy. He has raw spots from licking &amp;&amp; scratching. Gonna take him to the vet Monday but is there anything I can do in the mean time?"
      ]
     },
     "execution_count": 24,
     "metadata": {},
     "output_type": "execute_result"
    }
   ],
   "source": [
    "df_dogs.sort_values(by = 'title_word_count', ascending=False)[['title']].head()"
   ]
  },
  {
   "cell_type": "markdown",
   "id": "4439e496",
   "metadata": {},
   "source": [
    "### Distribution of Title Lengths"
   ]
  },
  {
   "cell_type": "code",
   "execution_count": 74,
   "id": "2873caf6",
   "metadata": {},
   "outputs": [
    {
     "data": {
      "text/plain": [
       "<AxesSubplot:xlabel='Dogs - Title Word Count'>"
      ]
     },
     "execution_count": 74,
     "metadata": {},
     "output_type": "execute_result"
    },
    {
     "data": {
      "image/png": "[encoded data removed]",
      "text/plain": [
       "<Figure size 432x288 with 1 Axes>"
      ]
     },
     "metadata": {
      "needs_background": "light"
     },
     "output_type": "display_data"
    }
   ],
   "source": [
    "sns.distplot(df_dogs['title_word_count'],\n",
    "             axlabel = 'Dogs - Title Word Count',\n",
    "             kde=False)"
   ]
  },
  {
   "cell_type": "code",
   "execution_count": 75,
   "id": "daaac8b1",
   "metadata": {},
   "outputs": [
    {
     "data": {
      "text/plain": [
       "<AxesSubplot:xlabel='Dogs - Title Length'>"
      ]
     },
     "execution_count": 75,
     "metadata": {},
     "output_type": "execute_result"
    },
    {
     "data": {
      "image/png": "[encoded data removed]",
      "text/plain": [
       "<Figure size 432x288 with 1 Axes>"
      ]
     },
     "metadata": {
      "needs_background": "light"
     },
     "output_type": "display_data"
    }
   ],
   "source": [
    "sns.distplot(df_dogs['title_length'], \n",
    "             axlabel = 'Dogs - Title Length',\n",
    "             kde=False)"
   ]
  },
  {
   "cell_type": "markdown",
   "id": "3b09b347",
   "metadata": {},
   "source": [
    "## Cleaning and Tokenise (Dogs)"
   ]
  },
  {
   "cell_type": "code",
   "execution_count": 27,
   "id": "9f721328",
   "metadata": {},
   "outputs": [],
   "source": [
    "df_dogs['title'] = df_dogs['title'].str.replace(r'[^\\w\\s]+', '', regex = True)"
   ]
  },
  {
   "cell_type": "code",
   "execution_count": 28,
   "id": "22940fc0",
   "metadata": {},
   "outputs": [],
   "source": [
    "# manually removing capitals and splitting into words\n",
    "df_dogs['words'] = [x.lower().split() for x in df_dogs['title']]\n",
    "df_dogs['title'] = [x.lower() for x in df_dogs['title']]"
   ]
  },
  {
   "cell_type": "code",
   "execution_count": 29,
   "id": "abd5d38d",
   "metadata": {},
   "outputs": [
    {
     "data": {
      "text/html": [
       "<div>\n",
       "<style scoped>\n",
       "    .dataframe tbody tr th:only-of-type {\n",
       "        vertical-align: middle;\n",
       "    }\n",
       "\n",
       "    .dataframe tbody tr th {\n",
       "        vertical-align: top;\n",
       "    }\n",
       "\n",
       "    .dataframe thead th {\n",
       "        text-align: right;\n",
       "    }\n",
       "</style>\n",
       "<table border=\"1\" class=\"dataframe\">\n",
       "  <thead>\n",
       "    <tr style=\"text-align: right;\">\n",
       "      <th></th>\n",
       "      <th>subreddit</th>\n",
       "      <th>title</th>\n",
       "      <th>title_length</th>\n",
       "      <th>title_word_count</th>\n",
       "      <th>words</th>\n",
       "    </tr>\n",
       "  </thead>\n",
       "  <tbody>\n",
       "    <tr>\n",
       "      <th>0</th>\n",
       "      <td>dogs</td>\n",
       "      <td>my dog bites himself</td>\n",
       "      <td>20</td>\n",
       "      <td>4</td>\n",
       "      <td>[my, dog, bites, himself]</td>\n",
       "    </tr>\n",
       "    <tr>\n",
       "      <th>1</th>\n",
       "      <td>dogs</td>\n",
       "      <td>how do you keep your dogs passively stimulated</td>\n",
       "      <td>47</td>\n",
       "      <td>8</td>\n",
       "      <td>[how, do, you, keep, your, dogs, passively, stimulated]</td>\n",
       "    </tr>\n",
       "    <tr>\n",
       "      <th>2</th>\n",
       "      <td>dogs</td>\n",
       "      <td>dogs sleeping behavior changed with pregnant wife</td>\n",
       "      <td>50</td>\n",
       "      <td>7</td>\n",
       "      <td>[dogs, sleeping, behavior, changed, with, pregnant, wife]</td>\n",
       "    </tr>\n",
       "    <tr>\n",
       "      <th>3</th>\n",
       "      <td>dogs</td>\n",
       "      <td>soft food diet after surgery</td>\n",
       "      <td>28</td>\n",
       "      <td>5</td>\n",
       "      <td>[soft, food, diet, after, surgery]</td>\n",
       "    </tr>\n",
       "    <tr>\n",
       "      <th>4</th>\n",
       "      <td>dogs</td>\n",
       "      <td>does anyone know much about intracranial arachnoid cysts</td>\n",
       "      <td>57</td>\n",
       "      <td>8</td>\n",
       "      <td>[does, anyone, know, much, about, intracranial, arachnoid, cysts]</td>\n",
       "    </tr>\n",
       "  </tbody>\n",
       "</table>\n",
       "</div>"
      ],
      "text/plain": [
       "  subreddit                                                     title  \\\n",
       "0      dogs                                      my dog bites himself   \n",
       "1      dogs            how do you keep your dogs passively stimulated   \n",
       "2      dogs         dogs sleeping behavior changed with pregnant wife   \n",
       "3      dogs                              soft food diet after surgery   \n",
       "4      dogs  does anyone know much about intracranial arachnoid cysts   \n",
       "\n",
       "   title_length  title_word_count  \\\n",
       "0            20                 4   \n",
       "1            47                 8   \n",
       "2            50                 7   \n",
       "3            28                 5   \n",
       "4            57                 8   \n",
       "\n",
       "                                                               words  \n",
       "0                                          [my, dog, bites, himself]  \n",
       "1            [how, do, you, keep, your, dogs, passively, stimulated]  \n",
       "2          [dogs, sleeping, behavior, changed, with, pregnant, wife]  \n",
       "3                                 [soft, food, diet, after, surgery]  \n",
       "4  [does, anyone, know, much, about, intracranial, arachnoid, cysts]  "
      ]
     },
     "execution_count": 29,
     "metadata": {},
     "output_type": "execute_result"
    }
   ],
   "source": [
    "df_dogs.head()"
   ]
  },
  {
   "cell_type": "markdown",
   "id": "e16c3a96",
   "metadata": {},
   "source": [
    "### EDA on Word Counts"
   ]
  },
  {
   "cell_type": "code",
   "execution_count": 30,
   "id": "3fea0b59",
   "metadata": {},
   "outputs": [],
   "source": [
    "cv.fit(df_dogs['title'])\n",
    "\n",
    "status_cv_dogs = cv.transform(df_dogs['title'])\n",
    "status_df_dogs = pd.DataFrame(status_cv_dogs.todense(), columns=cv.get_feature_names())"
   ]
  },
  {
   "cell_type": "markdown",
   "id": "576a718b",
   "metadata": {},
   "source": [
    "### Show the 15 most common words"
   ]
  },
  {
   "cell_type": "code",
   "execution_count": 31,
   "id": "9db7da79",
   "metadata": {},
   "outputs": [
    {
     "data": {
      "text/plain": [
       "dog       5015\n",
       "dogs      1264\n",
       "help       857\n",
       "puppy      590\n",
       "old        403\n",
       "advice     377\n",
       "need       328\n",
       "does       303\n",
       "breed      301\n",
       "new        295\n",
       "food       285\n",
       "just       228\n",
       "im         225\n",
       "like       213\n",
       "know       203\n",
       "dtype: int64"
      ]
     },
     "execution_count": 31,
     "metadata": {},
     "output_type": "execute_result"
    }
   ],
   "source": [
    "status_df_dogs.sum().sort_values(ascending=False).head(15)"
   ]
  },
  {
   "cell_type": "markdown",
   "id": "dd4e0888",
   "metadata": {},
   "source": [
    "### Show the 15 frequency of the most common words as a bar chart"
   ]
  },
  {
   "cell_type": "code",
   "execution_count": 76,
   "id": "817a114f",
   "metadata": {},
   "outputs": [
    {
     "data": {
      "text/plain": [
       "<AxesSubplot:ylabel='15 Most Common Words (Dogs)'>"
      ]
     },
     "execution_count": 76,
     "metadata": {},
     "output_type": "execute_result"
    },
    {
     "data": {
      "image/png": "[encoded data removed]",
      "text/plain": [
       "<Figure size 432x288 with 1 Axes>"
      ]
     },
     "metadata": {
      "needs_background": "light"
     },
     "output_type": "display_data"
    }
   ],
   "source": [
    "status_df_dogs.sum().sort_values(ascending=False).head(15).plot(kind='barh', xlabel='15 Most Common Words (Dogs)')"
   ]
  },
  {
   "cell_type": "markdown",
   "id": "9a275fed",
   "metadata": {},
   "source": [
    "### Most Common Bigrams"
   ]
  },
  {
   "cell_type": "code",
   "execution_count": 33,
   "id": "ebcdfb1b",
   "metadata": {},
   "outputs": [
    {
     "data": {
      "text/plain": [
       "year old       136\n",
       "need help      116\n",
       "does dog       114\n",
       "help dog       109\n",
       "dog food       106\n",
       "dog ate         93\n",
       "need advice     82\n",
       "new dog         81\n",
       "old dog         81\n",
       "dog wont        75\n",
       "month old       73\n",
       "dont know       73\n",
       "new puppy       66\n",
       "dog breed       64\n",
       "dog park        55\n",
       "dtype: int64"
      ]
     },
     "execution_count": 33,
     "metadata": {},
     "output_type": "execute_result"
    }
   ],
   "source": [
    "cv_bigrams_dogs = CountVectorizer(ngram_range=(2, 2), stop_words='english')\n",
    "cv_bigrams_dogs.fit(df_dogs['title'])\n",
    "\n",
    "bigrams_cv_dogs = cv_bigrams_dogs.transform(df_dogs['title'])\n",
    "bigrams_df_dogs = pd.DataFrame(bigrams_cv_dogs.todense(), columns=cv_bigrams_dogs.get_feature_names())\n",
    "\n",
    "bigrams_df_dogs.sum().sort_values(ascending=False).head(15)"
   ]
  },
  {
   "cell_type": "code",
   "execution_count": 82,
   "id": "4031ca65",
   "metadata": {},
   "outputs": [
    {
     "data": {
      "text/plain": [
       "<AxesSubplot:ylabel='15 Most Common Bigrams (Dogs)'>"
      ]
     },
     "execution_count": 82,
     "metadata": {},
     "output_type": "execute_result"
    },
    {
     "data": {
      "image/png": "[encoded data removed]",
      "text/plain": [
       "<Figure size 432x288 with 1 Axes>"
      ]
     },
     "metadata": {
      "needs_background": "light"
     },
     "output_type": "display_data"
    }
   ],
   "source": [
    "bigrams_df_dogs.sum().sort_values(ascending=False).head(15).plot(kind='barh', xlabel='15 Most Common Bigrams (Dogs)')"
   ]
  },
  {
   "cell_type": "code",
   "execution_count": 34,
   "id": "9cf135e0",
   "metadata": {},
   "outputs": [
    {
     "data": {
      "text/plain": [
       "year old dog         42\n",
       "month old puppy      21\n",
       "dog wont stop        20\n",
       "dog wont eat         19\n",
       "new dog owner        16\n",
       "dog passed away      15\n",
       "dog ate chocolate    13\n",
       "week old puppy       12\n",
       "help dog ate         11\n",
       "10 month old         11\n",
       "dog doesnt like      10\n",
       "does elses dog       10\n",
       "dog dont know        10\n",
       "13 year old           9\n",
       "dog attacked dog      9\n",
       "dtype: int64"
      ]
     },
     "execution_count": 34,
     "metadata": {},
     "output_type": "execute_result"
    }
   ],
   "source": [
    "cv_trigrams_dogs = CountVectorizer(ngram_range=(3, 3), stop_words='english')\n",
    "cv_trigrams_dogs.fit(df_dogs['title'])\n",
    "\n",
    "trigrams_cv_dogs = cv_trigrams_dogs.transform(df_dogs['title'])\n",
    "trigrams_df_dogs = pd.DataFrame(trigrams_cv_dogs.todense(), columns=cv_trigrams_dogs.get_feature_names())\n",
    "\n",
    "trigrams_df_dogs.sum().sort_values(ascending=False).head(15)"
   ]
  },
  {
   "cell_type": "code",
   "execution_count": 84,
   "id": "d95b8e70",
   "metadata": {},
   "outputs": [
    {
     "data": {
      "text/plain": [
       "<AxesSubplot:ylabel='15 Most Common Trigrams (Dogs)'>"
      ]
     },
     "execution_count": 84,
     "metadata": {},
     "output_type": "execute_result"
    },
    {
     "data": {
      "image/png": "[encoded data removed]",
      "text/plain": [
       "<Figure size 432x288 with 1 Axes>"
      ]
     },
     "metadata": {
      "needs_background": "light"
     },
     "output_type": "display_data"
    }
   ],
   "source": [
    "trigrams_df_dogs.sum().sort_values(ascending=False).head(15).plot(kind='barh', xlabel='15 Most Common Trigrams (Dogs)')"
   ]
  },
  {
   "cell_type": "markdown",
   "id": "f9061d23",
   "metadata": {},
   "source": [
    "## Combine Dataframes"
   ]
  },
  {
   "cell_type": "code",
   "execution_count": 35,
   "id": "7117362d",
   "metadata": {},
   "outputs": [],
   "source": [
    "concat = [df_cats, df_dogs]\n",
    "df = pd.concat(concat)"
   ]
  },
  {
   "cell_type": "code",
   "execution_count": 36,
   "id": "7cf5f0ce",
   "metadata": {},
   "outputs": [
    {
     "data": {
      "text/plain": [
       "(19941, 5)"
      ]
     },
     "execution_count": 36,
     "metadata": {},
     "output_type": "execute_result"
    }
   ],
   "source": [
    "df.shape"
   ]
  },
  {
   "cell_type": "code",
   "execution_count": 37,
   "id": "faa5a6af",
   "metadata": {},
   "outputs": [
    {
     "data": {
      "text/html": [
       "<div>\n",
       "<style scoped>\n",
       "    .dataframe tbody tr th:only-of-type {\n",
       "        vertical-align: middle;\n",
       "    }\n",
       "\n",
       "    .dataframe tbody tr th {\n",
       "        vertical-align: top;\n",
       "    }\n",
       "\n",
       "    .dataframe thead th {\n",
       "        text-align: right;\n",
       "    }\n",
       "</style>\n",
       "<table border=\"1\" class=\"dataframe\">\n",
       "  <thead>\n",
       "    <tr style=\"text-align: right;\">\n",
       "      <th></th>\n",
       "      <th>subreddit</th>\n",
       "      <th>title</th>\n",
       "      <th>title_length</th>\n",
       "      <th>title_word_count</th>\n",
       "      <th>words</th>\n",
       "    </tr>\n",
       "  </thead>\n",
       "  <tbody>\n",
       "    <tr>\n",
       "      <th>0</th>\n",
       "      <td>cats</td>\n",
       "      <td>i came home sick from work with pneumonia here is where i found my wifes cat watching tv then noticing me taking pictures</td>\n",
       "      <td>124</td>\n",
       "      <td>23</td>\n",
       "      <td>[i, came, home, sick, from, work, with, pneumonia, here, is, where, i, found, my, wifes, cat, watching, tv, then, noticing, me, taking, pictures]</td>\n",
       "    </tr>\n",
       "    <tr>\n",
       "      <th>1</th>\n",
       "      <td>cats</td>\n",
       "      <td>my sleepyhead curled up this morning</td>\n",
       "      <td>36</td>\n",
       "      <td>6</td>\n",
       "      <td>[my, sleepyhead, curled, up, this, morning]</td>\n",
       "    </tr>\n",
       "    <tr>\n",
       "      <th>2</th>\n",
       "      <td>cats</td>\n",
       "      <td>spooky takes care of me when i wfh who needs hr when youve got haww</td>\n",
       "      <td>72</td>\n",
       "      <td>15</td>\n",
       "      <td>[spooky, takes, care, of, me, when, i, wfh, who, needs, hr, when, youve, got, haww]</td>\n",
       "    </tr>\n",
       "    <tr>\n",
       "      <th>3</th>\n",
       "      <td>cats</td>\n",
       "      <td>hi i am a new cat mom and am hoping someone might have experience with something similar to my cats ear details in post comments</td>\n",
       "      <td>131</td>\n",
       "      <td>25</td>\n",
       "      <td>[hi, i, am, a, new, cat, mom, and, am, hoping, someone, might, have, experience, with, something, similar, to, my, cats, ear, details, in, post, comments]</td>\n",
       "    </tr>\n",
       "    <tr>\n",
       "      <th>4</th>\n",
       "      <td>cats</td>\n",
       "      <td>spooky looks after me when i wfh who needs a hr department when you can have a haww department</td>\n",
       "      <td>97</td>\n",
       "      <td>19</td>\n",
       "      <td>[spooky, looks, after, me, when, i, wfh, who, needs, a, hr, department, when, you, can, have, a, haww, department]</td>\n",
       "    </tr>\n",
       "  </tbody>\n",
       "</table>\n",
       "</div>"
      ],
      "text/plain": [
       "  subreddit  \\\n",
       "0      cats   \n",
       "1      cats   \n",
       "2      cats   \n",
       "3      cats   \n",
       "4      cats   \n",
       "\n",
       "                                                                                                                              title  \\\n",
       "0         i came home sick from work with pneumonia here is where i found my wifes cat watching tv then noticing me taking pictures   \n",
       "1                                                                                              my sleepyhead curled up this morning   \n",
       "2                                                               spooky takes care of me when i wfh who needs hr when youve got haww   \n",
       "3  hi i am a new cat mom and am hoping someone might have experience with something similar to my cats ear details in post comments   \n",
       "4                                    spooky looks after me when i wfh who needs a hr department when you can have a haww department   \n",
       "\n",
       "   title_length  title_word_count  \\\n",
       "0           124                23   \n",
       "1            36                 6   \n",
       "2            72                15   \n",
       "3           131                25   \n",
       "4            97                19   \n",
       "\n",
       "                                                                                                                                                        words  \n",
       "0           [i, came, home, sick, from, work, with, pneumonia, here, is, where, i, found, my, wifes, cat, watching, tv, then, noticing, me, taking, pictures]  \n",
       "1                                                                                                                 [my, sleepyhead, curled, up, this, morning]  \n",
       "2                                                                         [spooky, takes, care, of, me, when, i, wfh, who, needs, hr, when, youve, got, haww]  \n",
       "3  [hi, i, am, a, new, cat, mom, and, am, hoping, someone, might, have, experience, with, something, similar, to, my, cats, ear, details, in, post, comments]  \n",
       "4                                          [spooky, looks, after, me, when, i, wfh, who, needs, a, hr, department, when, you, can, have, a, haww, department]  "
      ]
     },
     "execution_count": 37,
     "metadata": {},
     "output_type": "execute_result"
    }
   ],
   "source": [
    "df.head()"
   ]
  },
  {
   "cell_type": "markdown",
   "id": "64179de5",
   "metadata": {},
   "source": [
    "## Clean and Tokenise"
   ]
  },
  {
   "cell_type": "markdown",
   "id": "7be52228",
   "metadata": {},
   "source": [
    "### Stopword Removal"
   ]
  },
  {
   "cell_type": "code",
   "execution_count": 38,
   "id": "30e25e4f",
   "metadata": {},
   "outputs": [],
   "source": [
    "from nltk.corpus import stopwords\n",
    "from nltk.tokenize import word_tokenize"
   ]
  },
  {
   "cell_type": "code",
   "execution_count": 39,
   "id": "279a3211",
   "metadata": {},
   "outputs": [],
   "source": [
    "df = df.reset_index().drop(columns='index')"
   ]
  },
  {
   "cell_type": "code",
   "execution_count": 40,
   "id": "d13457c0",
   "metadata": {
    "scrolled": true
   },
   "outputs": [
    {
     "data": {
      "text/html": [
       "<div>\n",
       "<style scoped>\n",
       "    .dataframe tbody tr th:only-of-type {\n",
       "        vertical-align: middle;\n",
       "    }\n",
       "\n",
       "    .dataframe tbody tr th {\n",
       "        vertical-align: top;\n",
       "    }\n",
       "\n",
       "    .dataframe thead th {\n",
       "        text-align: right;\n",
       "    }\n",
       "</style>\n",
       "<table border=\"1\" class=\"dataframe\">\n",
       "  <thead>\n",
       "    <tr style=\"text-align: right;\">\n",
       "      <th></th>\n",
       "      <th>subreddit</th>\n",
       "      <th>title</th>\n",
       "      <th>title_length</th>\n",
       "      <th>title_word_count</th>\n",
       "      <th>words</th>\n",
       "    </tr>\n",
       "  </thead>\n",
       "  <tbody>\n",
       "    <tr>\n",
       "      <th>56</th>\n",
       "      <td>cats</td>\n",
       "      <td></td>\n",
       "      <td>1</td>\n",
       "      <td>1</td>\n",
       "      <td>[]</td>\n",
       "    </tr>\n",
       "    <tr>\n",
       "      <th>279</th>\n",
       "      <td>cats</td>\n",
       "      <td></td>\n",
       "      <td>3</td>\n",
       "      <td>1</td>\n",
       "      <td>[]</td>\n",
       "    </tr>\n",
       "    <tr>\n",
       "      <th>281</th>\n",
       "      <td>cats</td>\n",
       "      <td></td>\n",
       "      <td>1</td>\n",
       "      <td>1</td>\n",
       "      <td>[]</td>\n",
       "    </tr>\n",
       "    <tr>\n",
       "      <th>316</th>\n",
       "      <td>cats</td>\n",
       "      <td></td>\n",
       "      <td>1</td>\n",
       "      <td>1</td>\n",
       "      <td>[]</td>\n",
       "    </tr>\n",
       "    <tr>\n",
       "      <th>369</th>\n",
       "      <td>cats</td>\n",
       "      <td></td>\n",
       "      <td>3</td>\n",
       "      <td>1</td>\n",
       "      <td>[]</td>\n",
       "    </tr>\n",
       "    <tr>\n",
       "      <th>1101</th>\n",
       "      <td>cats</td>\n",
       "      <td></td>\n",
       "      <td>2</td>\n",
       "      <td>1</td>\n",
       "      <td>[]</td>\n",
       "    </tr>\n",
       "    <tr>\n",
       "      <th>1119</th>\n",
       "      <td>cats</td>\n",
       "      <td></td>\n",
       "      <td>2</td>\n",
       "      <td>1</td>\n",
       "      <td>[]</td>\n",
       "    </tr>\n",
       "    <tr>\n",
       "      <th>1337</th>\n",
       "      <td>cats</td>\n",
       "      <td></td>\n",
       "      <td>2</td>\n",
       "      <td>1</td>\n",
       "      <td>[]</td>\n",
       "    </tr>\n",
       "    <tr>\n",
       "      <th>1439</th>\n",
       "      <td>cats</td>\n",
       "      <td></td>\n",
       "      <td>1</td>\n",
       "      <td>1</td>\n",
       "      <td>[]</td>\n",
       "    </tr>\n",
       "    <tr>\n",
       "      <th>1443</th>\n",
       "      <td>cats</td>\n",
       "      <td></td>\n",
       "      <td>1</td>\n",
       "      <td>1</td>\n",
       "      <td>[]</td>\n",
       "    </tr>\n",
       "    <tr>\n",
       "      <th>1760</th>\n",
       "      <td>cats</td>\n",
       "      <td></td>\n",
       "      <td>4</td>\n",
       "      <td>1</td>\n",
       "      <td>[]</td>\n",
       "    </tr>\n",
       "    <tr>\n",
       "      <th>1761</th>\n",
       "      <td>cats</td>\n",
       "      <td></td>\n",
       "      <td>1</td>\n",
       "      <td>1</td>\n",
       "      <td>[]</td>\n",
       "    </tr>\n",
       "    <tr>\n",
       "      <th>1839</th>\n",
       "      <td>cats</td>\n",
       "      <td></td>\n",
       "      <td>2</td>\n",
       "      <td>1</td>\n",
       "      <td>[]</td>\n",
       "    </tr>\n",
       "    <tr>\n",
       "      <th>2316</th>\n",
       "      <td>cats</td>\n",
       "      <td></td>\n",
       "      <td>1</td>\n",
       "      <td>1</td>\n",
       "      <td>[]</td>\n",
       "    </tr>\n",
       "    <tr>\n",
       "      <th>2391</th>\n",
       "      <td>cats</td>\n",
       "      <td></td>\n",
       "      <td>2</td>\n",
       "      <td>1</td>\n",
       "      <td>[]</td>\n",
       "    </tr>\n",
       "    <tr>\n",
       "      <th>2397</th>\n",
       "      <td>cats</td>\n",
       "      <td></td>\n",
       "      <td>3</td>\n",
       "      <td>1</td>\n",
       "      <td>[]</td>\n",
       "    </tr>\n",
       "    <tr>\n",
       "      <th>2555</th>\n",
       "      <td>cats</td>\n",
       "      <td></td>\n",
       "      <td>2</td>\n",
       "      <td>1</td>\n",
       "      <td>[]</td>\n",
       "    </tr>\n",
       "    <tr>\n",
       "      <th>2708</th>\n",
       "      <td>cats</td>\n",
       "      <td></td>\n",
       "      <td>1</td>\n",
       "      <td>1</td>\n",
       "      <td>[]</td>\n",
       "    </tr>\n",
       "    <tr>\n",
       "      <th>3262</th>\n",
       "      <td>cats</td>\n",
       "      <td></td>\n",
       "      <td>1</td>\n",
       "      <td>1</td>\n",
       "      <td>[]</td>\n",
       "    </tr>\n",
       "    <tr>\n",
       "      <th>3627</th>\n",
       "      <td>cats</td>\n",
       "      <td></td>\n",
       "      <td>1</td>\n",
       "      <td>1</td>\n",
       "      <td>[]</td>\n",
       "    </tr>\n",
       "    <tr>\n",
       "      <th>3944</th>\n",
       "      <td>cats</td>\n",
       "      <td></td>\n",
       "      <td>2</td>\n",
       "      <td>1</td>\n",
       "      <td>[]</td>\n",
       "    </tr>\n",
       "    <tr>\n",
       "      <th>4482</th>\n",
       "      <td>cats</td>\n",
       "      <td></td>\n",
       "      <td>1</td>\n",
       "      <td>1</td>\n",
       "      <td>[]</td>\n",
       "    </tr>\n",
       "    <tr>\n",
       "      <th>4497</th>\n",
       "      <td>cats</td>\n",
       "      <td></td>\n",
       "      <td>1</td>\n",
       "      <td>1</td>\n",
       "      <td>[]</td>\n",
       "    </tr>\n",
       "    <tr>\n",
       "      <th>4562</th>\n",
       "      <td>cats</td>\n",
       "      <td></td>\n",
       "      <td>2</td>\n",
       "      <td>1</td>\n",
       "      <td>[]</td>\n",
       "    </tr>\n",
       "    <tr>\n",
       "      <th>4638</th>\n",
       "      <td>cats</td>\n",
       "      <td></td>\n",
       "      <td>2</td>\n",
       "      <td>1</td>\n",
       "      <td>[]</td>\n",
       "    </tr>\n",
       "    <tr>\n",
       "      <th>4711</th>\n",
       "      <td>cats</td>\n",
       "      <td></td>\n",
       "      <td>1</td>\n",
       "      <td>1</td>\n",
       "      <td>[]</td>\n",
       "    </tr>\n",
       "    <tr>\n",
       "      <th>4804</th>\n",
       "      <td>cats</td>\n",
       "      <td></td>\n",
       "      <td>3</td>\n",
       "      <td>1</td>\n",
       "      <td>[]</td>\n",
       "    </tr>\n",
       "    <tr>\n",
       "      <th>5095</th>\n",
       "      <td>cats</td>\n",
       "      <td></td>\n",
       "      <td>2</td>\n",
       "      <td>1</td>\n",
       "      <td>[]</td>\n",
       "    </tr>\n",
       "    <tr>\n",
       "      <th>5122</th>\n",
       "      <td>cats</td>\n",
       "      <td></td>\n",
       "      <td>1</td>\n",
       "      <td>1</td>\n",
       "      <td>[]</td>\n",
       "    </tr>\n",
       "    <tr>\n",
       "      <th>5225</th>\n",
       "      <td>cats</td>\n",
       "      <td></td>\n",
       "      <td>1</td>\n",
       "      <td>1</td>\n",
       "      <td>[]</td>\n",
       "    </tr>\n",
       "    <tr>\n",
       "      <th>5242</th>\n",
       "      <td>cats</td>\n",
       "      <td></td>\n",
       "      <td>3</td>\n",
       "      <td>1</td>\n",
       "      <td>[]</td>\n",
       "    </tr>\n",
       "    <tr>\n",
       "      <th>5738</th>\n",
       "      <td>cats</td>\n",
       "      <td></td>\n",
       "      <td>1</td>\n",
       "      <td>1</td>\n",
       "      <td>[]</td>\n",
       "    </tr>\n",
       "    <tr>\n",
       "      <th>5769</th>\n",
       "      <td>cats</td>\n",
       "      <td></td>\n",
       "      <td>2</td>\n",
       "      <td>1</td>\n",
       "      <td>[]</td>\n",
       "    </tr>\n",
       "    <tr>\n",
       "      <th>6049</th>\n",
       "      <td>cats</td>\n",
       "      <td></td>\n",
       "      <td>2</td>\n",
       "      <td>1</td>\n",
       "      <td>[]</td>\n",
       "    </tr>\n",
       "    <tr>\n",
       "      <th>6466</th>\n",
       "      <td>cats</td>\n",
       "      <td></td>\n",
       "      <td>3</td>\n",
       "      <td>1</td>\n",
       "      <td>[]</td>\n",
       "    </tr>\n",
       "    <tr>\n",
       "      <th>6503</th>\n",
       "      <td>cats</td>\n",
       "      <td></td>\n",
       "      <td>1</td>\n",
       "      <td>1</td>\n",
       "      <td>[]</td>\n",
       "    </tr>\n",
       "    <tr>\n",
       "      <th>6507</th>\n",
       "      <td>cats</td>\n",
       "      <td></td>\n",
       "      <td>1</td>\n",
       "      <td>1</td>\n",
       "      <td>[]</td>\n",
       "    </tr>\n",
       "    <tr>\n",
       "      <th>6510</th>\n",
       "      <td>cats</td>\n",
       "      <td></td>\n",
       "      <td>1</td>\n",
       "      <td>1</td>\n",
       "      <td>[]</td>\n",
       "    </tr>\n",
       "    <tr>\n",
       "      <th>6513</th>\n",
       "      <td>cats</td>\n",
       "      <td></td>\n",
       "      <td>1</td>\n",
       "      <td>1</td>\n",
       "      <td>[]</td>\n",
       "    </tr>\n",
       "    <tr>\n",
       "      <th>7352</th>\n",
       "      <td>cats</td>\n",
       "      <td></td>\n",
       "      <td>7</td>\n",
       "      <td>1</td>\n",
       "      <td>[]</td>\n",
       "    </tr>\n",
       "    <tr>\n",
       "      <th>7378</th>\n",
       "      <td>cats</td>\n",
       "      <td></td>\n",
       "      <td>1</td>\n",
       "      <td>1</td>\n",
       "      <td>[]</td>\n",
       "    </tr>\n",
       "    <tr>\n",
       "      <th>7384</th>\n",
       "      <td>cats</td>\n",
       "      <td></td>\n",
       "      <td>2</td>\n",
       "      <td>1</td>\n",
       "      <td>[]</td>\n",
       "    </tr>\n",
       "    <tr>\n",
       "      <th>7514</th>\n",
       "      <td>cats</td>\n",
       "      <td></td>\n",
       "      <td>2</td>\n",
       "      <td>1</td>\n",
       "      <td>[]</td>\n",
       "    </tr>\n",
       "    <tr>\n",
       "      <th>8417</th>\n",
       "      <td>cats</td>\n",
       "      <td></td>\n",
       "      <td>2</td>\n",
       "      <td>1</td>\n",
       "      <td>[]</td>\n",
       "    </tr>\n",
       "    <tr>\n",
       "      <th>8448</th>\n",
       "      <td>cats</td>\n",
       "      <td></td>\n",
       "      <td>3</td>\n",
       "      <td>1</td>\n",
       "      <td>[]</td>\n",
       "    </tr>\n",
       "    <tr>\n",
       "      <th>8464</th>\n",
       "      <td>cats</td>\n",
       "      <td></td>\n",
       "      <td>3</td>\n",
       "      <td>1</td>\n",
       "      <td>[]</td>\n",
       "    </tr>\n",
       "    <tr>\n",
       "      <th>8696</th>\n",
       "      <td>cats</td>\n",
       "      <td></td>\n",
       "      <td>1</td>\n",
       "      <td>1</td>\n",
       "      <td>[]</td>\n",
       "    </tr>\n",
       "    <tr>\n",
       "      <th>8997</th>\n",
       "      <td>cats</td>\n",
       "      <td></td>\n",
       "      <td>3</td>\n",
       "      <td>1</td>\n",
       "      <td>[]</td>\n",
       "    </tr>\n",
       "    <tr>\n",
       "      <th>9167</th>\n",
       "      <td>cats</td>\n",
       "      <td></td>\n",
       "      <td>1</td>\n",
       "      <td>1</td>\n",
       "      <td>[]</td>\n",
       "    </tr>\n",
       "    <tr>\n",
       "      <th>9728</th>\n",
       "      <td>cats</td>\n",
       "      <td></td>\n",
       "      <td>2</td>\n",
       "      <td>1</td>\n",
       "      <td>[]</td>\n",
       "    </tr>\n",
       "    <tr>\n",
       "      <th>9851</th>\n",
       "      <td>cats</td>\n",
       "      <td></td>\n",
       "      <td>3</td>\n",
       "      <td>1</td>\n",
       "      <td>[]</td>\n",
       "    </tr>\n",
       "    <tr>\n",
       "      <th>10047</th>\n",
       "      <td>dogs</td>\n",
       "      <td></td>\n",
       "      <td>2</td>\n",
       "      <td>1</td>\n",
       "      <td>[]</td>\n",
       "    </tr>\n",
       "    <tr>\n",
       "      <th>11249</th>\n",
       "      <td>dogs</td>\n",
       "      <td></td>\n",
       "      <td>1</td>\n",
       "      <td>1</td>\n",
       "      <td>[]</td>\n",
       "    </tr>\n",
       "    <tr>\n",
       "      <th>18525</th>\n",
       "      <td>dogs</td>\n",
       "      <td></td>\n",
       "      <td>1</td>\n",
       "      <td>1</td>\n",
       "      <td>[]</td>\n",
       "    </tr>\n",
       "    <tr>\n",
       "      <th>19448</th>\n",
       "      <td>dogs</td>\n",
       "      <td></td>\n",
       "      <td>1</td>\n",
       "      <td>1</td>\n",
       "      <td>[]</td>\n",
       "    </tr>\n",
       "  </tbody>\n",
       "</table>\n",
       "</div>"
      ],
      "text/plain": [
       "      subreddit title  title_length  title_word_count words\n",
       "56         cats                   1                 1    []\n",
       "279        cats                   3                 1    []\n",
       "281        cats                   1                 1    []\n",
       "316        cats                   1                 1    []\n",
       "369        cats                   3                 1    []\n",
       "1101       cats                   2                 1    []\n",
       "1119       cats                   2                 1    []\n",
       "1337       cats                   2                 1    []\n",
       "1439       cats                   1                 1    []\n",
       "1443       cats                   1                 1    []\n",
       "1760       cats                   4                 1    []\n",
       "1761       cats                   1                 1    []\n",
       "1839       cats                   2                 1    []\n",
       "2316       cats                   1                 1    []\n",
       "2391       cats                   2                 1    []\n",
       "2397       cats                   3                 1    []\n",
       "2555       cats                   2                 1    []\n",
       "2708       cats                   1                 1    []\n",
       "3262       cats                   1                 1    []\n",
       "3627       cats                   1                 1    []\n",
       "3944       cats                   2                 1    []\n",
       "4482       cats                   1                 1    []\n",
       "4497       cats                   1                 1    []\n",
       "4562       cats                   2                 1    []\n",
       "4638       cats                   2                 1    []\n",
       "4711       cats                   1                 1    []\n",
       "4804       cats                   3                 1    []\n",
       "5095       cats                   2                 1    []\n",
       "5122       cats                   1                 1    []\n",
       "5225       cats                   1                 1    []\n",
       "5242       cats                   3                 1    []\n",
       "5738       cats                   1                 1    []\n",
       "5769       cats                   2                 1    []\n",
       "6049       cats                   2                 1    []\n",
       "6466       cats                   3                 1    []\n",
       "6503       cats                   1                 1    []\n",
       "6507       cats                   1                 1    []\n",
       "6510       cats                   1                 1    []\n",
       "6513       cats                   1                 1    []\n",
       "7352       cats                   7                 1    []\n",
       "7378       cats                   1                 1    []\n",
       "7384       cats                   2                 1    []\n",
       "7514       cats                   2                 1    []\n",
       "8417       cats                   2                 1    []\n",
       "8448       cats                   3                 1    []\n",
       "8464       cats                   3                 1    []\n",
       "8696       cats                   1                 1    []\n",
       "8997       cats                   3                 1    []\n",
       "9167       cats                   1                 1    []\n",
       "9728       cats                   2                 1    []\n",
       "9851       cats                   3                 1    []\n",
       "10047      dogs                   2                 1    []\n",
       "11249      dogs                   1                 1    []\n",
       "18525      dogs                   1                 1    []\n",
       "19448      dogs                   1                 1    []"
      ]
     },
     "execution_count": 40,
     "metadata": {},
     "output_type": "execute_result"
    }
   ],
   "source": [
    "df[df['title'] == '']"
   ]
  },
  {
   "cell_type": "code",
   "execution_count": 41,
   "id": "1f1d7835",
   "metadata": {},
   "outputs": [],
   "source": [
    "df = df[df['title'] != '']"
   ]
  },
  {
   "cell_type": "code",
   "execution_count": 42,
   "id": "0c1e2c70",
   "metadata": {},
   "outputs": [
    {
     "data": {
      "text/html": [
       "<div>\n",
       "<style scoped>\n",
       "    .dataframe tbody tr th:only-of-type {\n",
       "        vertical-align: middle;\n",
       "    }\n",
       "\n",
       "    .dataframe tbody tr th {\n",
       "        vertical-align: top;\n",
       "    }\n",
       "\n",
       "    .dataframe thead th {\n",
       "        text-align: right;\n",
       "    }\n",
       "</style>\n",
       "<table border=\"1\" class=\"dataframe\">\n",
       "  <thead>\n",
       "    <tr style=\"text-align: right;\">\n",
       "      <th></th>\n",
       "      <th>subreddit</th>\n",
       "      <th>title</th>\n",
       "      <th>title_length</th>\n",
       "      <th>title_word_count</th>\n",
       "      <th>words</th>\n",
       "    </tr>\n",
       "  </thead>\n",
       "  <tbody>\n",
       "    <tr>\n",
       "      <th>4266</th>\n",
       "      <td>cats</td>\n",
       "      <td>𝚂𝚠𝚎𝚎𝚝 girl</td>\n",
       "      <td>14</td>\n",
       "      <td>3</td>\n",
       "      <td>[𝚂𝚠𝚎𝚎𝚝, girl]</td>\n",
       "    </tr>\n",
       "    <tr>\n",
       "      <th>4264</th>\n",
       "      <td>cats</td>\n",
       "      <td>𝚂𝚠𝚎𝚎𝚝 girl</td>\n",
       "      <td>14</td>\n",
       "      <td>3</td>\n",
       "      <td>[𝚂𝚠𝚎𝚎𝚝, girl]</td>\n",
       "    </tr>\n",
       "    <tr>\n",
       "      <th>10014</th>\n",
       "      <td>dogs</td>\n",
       "      <td>可爱小狗合集</td>\n",
       "      <td>6</td>\n",
       "      <td>1</td>\n",
       "      <td>[可爱小狗合集]</td>\n",
       "    </tr>\n",
       "    <tr>\n",
       "      <th>16341</th>\n",
       "      <td>dogs</td>\n",
       "      <td>加速主义</td>\n",
       "      <td>4</td>\n",
       "      <td>1</td>\n",
       "      <td>[加速主义]</td>\n",
       "    </tr>\n",
       "    <tr>\n",
       "      <th>7312</th>\n",
       "      <td>cats</td>\n",
       "      <td>ฅﻌฅ</td>\n",
       "      <td>7</td>\n",
       "      <td>1</td>\n",
       "      <td>[ฅﻌฅ]</td>\n",
       "    </tr>\n",
       "    <tr>\n",
       "      <th>...</th>\n",
       "      <td>...</td>\n",
       "      <td>...</td>\n",
       "      <td>...</td>\n",
       "      <td>...</td>\n",
       "      <td>...</td>\n",
       "    </tr>\n",
       "    <tr>\n",
       "      <th>16054</th>\n",
       "      <td>dogs</td>\n",
       "      <td>funny amp cute cats and dog video compilation 3</td>\n",
       "      <td>57</td>\n",
       "      <td>12</td>\n",
       "      <td>[funny, amp, cute, cats, and, dog, video, compilation, 3]</td>\n",
       "    </tr>\n",
       "    <tr>\n",
       "      <th>4165</th>\n",
       "      <td>cats</td>\n",
       "      <td>destructive cats love the bathroom laundry basket</td>\n",
       "      <td>54</td>\n",
       "      <td>9</td>\n",
       "      <td>[destructive, cats, love, the, bathroom, laundry, basket]</td>\n",
       "    </tr>\n",
       "    <tr>\n",
       "      <th>1955</th>\n",
       "      <td>cats</td>\n",
       "      <td>cuál es la respuesta más tonta que dieron por estar nervioss</td>\n",
       "      <td>65</td>\n",
       "      <td>12</td>\n",
       "      <td>[cuál, es, la, respuesta, más, tonta, que, dieron, por, estar, nervioss]</td>\n",
       "    </tr>\n",
       "    <tr>\n",
       "      <th>18818</th>\n",
       "      <td>dogs</td>\n",
       "      <td>adopting a street dog</td>\n",
       "      <td>24</td>\n",
       "      <td>5</td>\n",
       "      <td>[adopting, a, street, dog]</td>\n",
       "    </tr>\n",
       "    <tr>\n",
       "      <th>4791</th>\n",
       "      <td>cats</td>\n",
       "      <td>my cat waiting on the gear before band practice starts</td>\n",
       "      <td>73</td>\n",
       "      <td>15</td>\n",
       "      <td>[my, cat, waiting, on, the, gear, before, band, practice, starts]</td>\n",
       "    </tr>\n",
       "  </tbody>\n",
       "</table>\n",
       "<p>19886 rows × 5 columns</p>\n",
       "</div>"
      ],
      "text/plain": [
       "      subreddit  \\\n",
       "4266       cats   \n",
       "4264       cats   \n",
       "10014      dogs   \n",
       "16341      dogs   \n",
       "7312       cats   \n",
       "...         ...   \n",
       "16054      dogs   \n",
       "4165       cats   \n",
       "1955       cats   \n",
       "18818      dogs   \n",
       "4791       cats   \n",
       "\n",
       "                                                               title  \\\n",
       "4266                                                     𝚂𝚠𝚎𝚎𝚝 girl    \n",
       "4264                                                     𝚂𝚠𝚎𝚎𝚝 girl    \n",
       "10014                                                         可爱小狗合集   \n",
       "16341                                                           加速主义   \n",
       "7312                                                             ฅﻌฅ   \n",
       "...                                                              ...   \n",
       "16054              funny amp cute cats and dog video compilation 3     \n",
       "4165              destructive cats love the bathroom laundry basket    \n",
       "1955    cuál es la respuesta más tonta que dieron por estar nervioss   \n",
       "18818                                          adopting a street dog   \n",
       "4791          my cat waiting on the gear before band practice starts   \n",
       "\n",
       "       title_length  title_word_count  \\\n",
       "4266             14                 3   \n",
       "4264             14                 3   \n",
       "10014             6                 1   \n",
       "16341             4                 1   \n",
       "7312              7                 1   \n",
       "...             ...               ...   \n",
       "16054            57                12   \n",
       "4165             54                 9   \n",
       "1955             65                12   \n",
       "18818            24                 5   \n",
       "4791             73                15   \n",
       "\n",
       "                                                                          words  \n",
       "4266                                                              [𝚂𝚠𝚎𝚎𝚝, girl]  \n",
       "4264                                                              [𝚂𝚠𝚎𝚎𝚝, girl]  \n",
       "10014                                                                  [可爱小狗合集]  \n",
       "16341                                                                    [加速主义]  \n",
       "7312                                                                      [ฅﻌฅ]  \n",
       "...                                                                         ...  \n",
       "16054                 [funny, amp, cute, cats, and, dog, video, compilation, 3]  \n",
       "4165                  [destructive, cats, love, the, bathroom, laundry, basket]  \n",
       "1955   [cuál, es, la, respuesta, más, tonta, que, dieron, por, estar, nervioss]  \n",
       "18818                                                [adopting, a, street, dog]  \n",
       "4791          [my, cat, waiting, on, the, gear, before, band, practice, starts]  \n",
       "\n",
       "[19886 rows x 5 columns]"
      ]
     },
     "execution_count": 42,
     "metadata": {},
     "output_type": "execute_result"
    }
   ],
   "source": [
    "df.sort_values(by = 'title', ascending = False)"
   ]
  },
  {
   "cell_type": "code",
   "execution_count": 43,
   "id": "0c69a355",
   "metadata": {},
   "outputs": [],
   "source": [
    "from nltk.corpus import stopwords"
   ]
  },
  {
   "cell_type": "code",
   "execution_count": 44,
   "id": "6ca4d449",
   "metadata": {},
   "outputs": [
    {
     "name": "stdout",
     "output_type": "stream",
     "text": [
      "{'any', 'too', 'between', \"mightn't\", 'about', 'hadn', 'its', \"you're\", 'm', 'aren', 'can', 'that', 'before', 'each', 'll', 're', 'once', 'nor', 'o', 'over', 'yourselves', 'ourselves', 'i', 'out', 'shan', 'if', 'an', 'all', 'his', \"won't\", 'of', 'whom', 'how', \"she's\", 'because', 'her', 'wasn', 'herself', 'are', 'the', 's', 'when', \"mustn't\", 'had', 'or', \"you've\", 'she', 'at', \"that'll\", \"don't\", 'just', \"wasn't\", 'you', 'now', 'down', \"it's\", 'own', 'isn', 'both', 'am', 'after', 'it', 'they', 'very', 've', 'being', 'yours', \"hadn't\", 'and', 'did', 'our', \"you'll\", 'y', 'then', 'while', 'ma', \"aren't\", 'him', 'will', 'won', 'other', 'against', 'having', 'himself', 'to', 'so', 'these', 'this', 'as', 'further', \"wouldn't\", 'but', \"isn't\", \"shouldn't\", 'into', 'for', 'again', 'your', 'wouldn', 'does', \"doesn't\", 'off', 'he', 'hers', 'what', 'below', 'didn', 'same', \"haven't\", 'itself', 'weren', 'until', 'doesn', 'should', 'hasn', 'couldn', 'no', 'who', 'in', 'ours', 'be', 'from', 'more', 'not', 'why', 'a', \"hasn't\", \"weren't\", 'myself', \"couldn't\", 'theirs', 'themselves', \"shan't\", 'such', 'during', 'have', 'my', 'most', 'doing', 'here', \"needn't\", 'some', 'me', 'do', 'we', 'd', 'there', 'under', 'were', 'their', 'is', 'where', 'which', 'them', 'was', 'up', 'been', 'ain', 'shouldn', 'yourself', 'mustn', 'don', 'on', 'few', 't', \"you'd\", 'haven', 'through', 'has', 'above', 'only', 'than', \"should've\", \"didn't\", 'those', 'needn', 'by', 'mightn', 'with'}\n"
     ]
    }
   ],
   "source": [
    "stop = set(stopwords.words('english'))\n",
    "print(stop)"
   ]
  },
  {
   "cell_type": "code",
   "execution_count": 45,
   "id": "43e87073",
   "metadata": {},
   "outputs": [],
   "source": [
    "def rem_en(input_txt):\n",
    "    words = input_txt.lower().split()\n",
    "    noise_free_words = [word for word in words if word not in stop] \n",
    "    noise_free_text = \" \".join(noise_free_words) \n",
    "    return noise_free_text"
   ]
  },
  {
   "cell_type": "code",
   "execution_count": 46,
   "id": "0e25a393",
   "metadata": {},
   "outputs": [
    {
     "data": {
      "text/html": [
       "<div>\n",
       "<style scoped>\n",
       "    .dataframe tbody tr th:only-of-type {\n",
       "        vertical-align: middle;\n",
       "    }\n",
       "\n",
       "    .dataframe tbody tr th {\n",
       "        vertical-align: top;\n",
       "    }\n",
       "\n",
       "    .dataframe thead th {\n",
       "        text-align: right;\n",
       "    }\n",
       "</style>\n",
       "<table border=\"1\" class=\"dataframe\">\n",
       "  <thead>\n",
       "    <tr style=\"text-align: right;\">\n",
       "      <th></th>\n",
       "      <th>subreddit</th>\n",
       "      <th>title</th>\n",
       "      <th>title_length</th>\n",
       "      <th>title_word_count</th>\n",
       "      <th>words</th>\n",
       "      <th>clean_title</th>\n",
       "    </tr>\n",
       "  </thead>\n",
       "  <tbody>\n",
       "    <tr>\n",
       "      <th>0</th>\n",
       "      <td>cats</td>\n",
       "      <td>i came home sick from work with pneumonia here is where i found my wifes cat watching tv then noticing me taking pictures</td>\n",
       "      <td>124</td>\n",
       "      <td>23</td>\n",
       "      <td>[i, came, home, sick, from, work, with, pneumonia, here, is, where, i, found, my, wifes, cat, watching, tv, then, noticing, me, taking, pictures]</td>\n",
       "      <td>came home sick work pneumonia found wifes cat watching tv noticing taking pictures</td>\n",
       "    </tr>\n",
       "    <tr>\n",
       "      <th>1</th>\n",
       "      <td>cats</td>\n",
       "      <td>my sleepyhead curled up this morning</td>\n",
       "      <td>36</td>\n",
       "      <td>6</td>\n",
       "      <td>[my, sleepyhead, curled, up, this, morning]</td>\n",
       "      <td>sleepyhead curled morning</td>\n",
       "    </tr>\n",
       "    <tr>\n",
       "      <th>2</th>\n",
       "      <td>cats</td>\n",
       "      <td>spooky takes care of me when i wfh who needs hr when youve got haww</td>\n",
       "      <td>72</td>\n",
       "      <td>15</td>\n",
       "      <td>[spooky, takes, care, of, me, when, i, wfh, who, needs, hr, when, youve, got, haww]</td>\n",
       "      <td>spooky takes care wfh needs hr youve got haww</td>\n",
       "    </tr>\n",
       "    <tr>\n",
       "      <th>3</th>\n",
       "      <td>cats</td>\n",
       "      <td>hi i am a new cat mom and am hoping someone might have experience with something similar to my cats ear details in post comments</td>\n",
       "      <td>131</td>\n",
       "      <td>25</td>\n",
       "      <td>[hi, i, am, a, new, cat, mom, and, am, hoping, someone, might, have, experience, with, something, similar, to, my, cats, ear, details, in, post, comments]</td>\n",
       "      <td>hi new cat mom hoping someone might experience something similar cats ear details post comments</td>\n",
       "    </tr>\n",
       "    <tr>\n",
       "      <th>4</th>\n",
       "      <td>cats</td>\n",
       "      <td>spooky looks after me when i wfh who needs a hr department when you can have a haww department</td>\n",
       "      <td>97</td>\n",
       "      <td>19</td>\n",
       "      <td>[spooky, looks, after, me, when, i, wfh, who, needs, a, hr, department, when, you, can, have, a, haww, department]</td>\n",
       "      <td>spooky looks wfh needs hr department haww department</td>\n",
       "    </tr>\n",
       "    <tr>\n",
       "      <th>...</th>\n",
       "      <td>...</td>\n",
       "      <td>...</td>\n",
       "      <td>...</td>\n",
       "      <td>...</td>\n",
       "      <td>...</td>\n",
       "      <td>...</td>\n",
       "    </tr>\n",
       "    <tr>\n",
       "      <th>19936</th>\n",
       "      <td>dogs</td>\n",
       "      <td>the right dog for a child with anxiety</td>\n",
       "      <td>39</td>\n",
       "      <td>8</td>\n",
       "      <td>[the, right, dog, for, a, child, with, anxiety]</td>\n",
       "      <td>right dog child anxiety</td>\n",
       "    </tr>\n",
       "    <tr>\n",
       "      <th>19937</th>\n",
       "      <td>dogs</td>\n",
       "      <td>does anyone else find dreaming about your passed on dogs so comforting and heartwarming</td>\n",
       "      <td>88</td>\n",
       "      <td>14</td>\n",
       "      <td>[does, anyone, else, find, dreaming, about, your, passed, on, dogs, so, comforting, and, heartwarming]</td>\n",
       "      <td>anyone else find dreaming passed dogs comforting heartwarming</td>\n",
       "    </tr>\n",
       "    <tr>\n",
       "      <th>19938</th>\n",
       "      <td>dogs</td>\n",
       "      <td>my dog f 3yo humped my arm</td>\n",
       "      <td>30</td>\n",
       "      <td>7</td>\n",
       "      <td>[my, dog, f, 3yo, humped, my, arm]</td>\n",
       "      <td>dog f 3yo humped arm</td>\n",
       "    </tr>\n",
       "    <tr>\n",
       "      <th>19939</th>\n",
       "      <td>dogs</td>\n",
       "      <td>how much does political correctness determine a lot of peoples views about dogs these days</td>\n",
       "      <td>92</td>\n",
       "      <td>15</td>\n",
       "      <td>[how, much, does, political, correctness, determine, a, lot, of, peoples, views, about, dogs, these, days]</td>\n",
       "      <td>much political correctness determine lot peoples views dogs days</td>\n",
       "    </tr>\n",
       "    <tr>\n",
       "      <th>19940</th>\n",
       "      <td>dogs</td>\n",
       "      <td>looking for recommended breeders of gsp in the greater new england usa area</td>\n",
       "      <td>78</td>\n",
       "      <td>13</td>\n",
       "      <td>[looking, for, recommended, breeders, of, gsp, in, the, greater, new, england, usa, area]</td>\n",
       "      <td>looking recommended breeders gsp greater new england usa area</td>\n",
       "    </tr>\n",
       "  </tbody>\n",
       "</table>\n",
       "<p>19886 rows × 6 columns</p>\n",
       "</div>"
      ],
      "text/plain": [
       "      subreddit  \\\n",
       "0          cats   \n",
       "1          cats   \n",
       "2          cats   \n",
       "3          cats   \n",
       "4          cats   \n",
       "...         ...   \n",
       "19936      dogs   \n",
       "19937      dogs   \n",
       "19938      dogs   \n",
       "19939      dogs   \n",
       "19940      dogs   \n",
       "\n",
       "                                                                                                                                  title  \\\n",
       "0             i came home sick from work with pneumonia here is where i found my wifes cat watching tv then noticing me taking pictures   \n",
       "1                                                                                                  my sleepyhead curled up this morning   \n",
       "2                                                                   spooky takes care of me when i wfh who needs hr when youve got haww   \n",
       "3      hi i am a new cat mom and am hoping someone might have experience with something similar to my cats ear details in post comments   \n",
       "4                                        spooky looks after me when i wfh who needs a hr department when you can have a haww department   \n",
       "...                                                                                                                                 ...   \n",
       "19936                                                                                            the right dog for a child with anxiety   \n",
       "19937                                           does anyone else find dreaming about your passed on dogs so comforting and heartwarming   \n",
       "19938                                                                                                        my dog f 3yo humped my arm   \n",
       "19939                                        how much does political correctness determine a lot of peoples views about dogs these days   \n",
       "19940                                                       looking for recommended breeders of gsp in the greater new england usa area   \n",
       "\n",
       "       title_length  title_word_count  \\\n",
       "0               124                23   \n",
       "1                36                 6   \n",
       "2                72                15   \n",
       "3               131                25   \n",
       "4                97                19   \n",
       "...             ...               ...   \n",
       "19936            39                 8   \n",
       "19937            88                14   \n",
       "19938            30                 7   \n",
       "19939            92                15   \n",
       "19940            78                13   \n",
       "\n",
       "                                                                                                                                                            words  \\\n",
       "0               [i, came, home, sick, from, work, with, pneumonia, here, is, where, i, found, my, wifes, cat, watching, tv, then, noticing, me, taking, pictures]   \n",
       "1                                                                                                                     [my, sleepyhead, curled, up, this, morning]   \n",
       "2                                                                             [spooky, takes, care, of, me, when, i, wfh, who, needs, hr, when, youve, got, haww]   \n",
       "3      [hi, i, am, a, new, cat, mom, and, am, hoping, someone, might, have, experience, with, something, similar, to, my, cats, ear, details, in, post, comments]   \n",
       "4                                              [spooky, looks, after, me, when, i, wfh, who, needs, a, hr, department, when, you, can, have, a, haww, department]   \n",
       "...                                                                                                                                                           ...   \n",
       "19936                                                                                                             [the, right, dog, for, a, child, with, anxiety]   \n",
       "19937                                                      [does, anyone, else, find, dreaming, about, your, passed, on, dogs, so, comforting, and, heartwarming]   \n",
       "19938                                                                                                                          [my, dog, f, 3yo, humped, my, arm]   \n",
       "19939                                                  [how, much, does, political, correctness, determine, a, lot, of, peoples, views, about, dogs, these, days]   \n",
       "19940                                                                   [looking, for, recommended, breeders, of, gsp, in, the, greater, new, england, usa, area]   \n",
       "\n",
       "                                                                                           clean_title  \n",
       "0                   came home sick work pneumonia found wifes cat watching tv noticing taking pictures  \n",
       "1                                                                            sleepyhead curled morning  \n",
       "2                                                        spooky takes care wfh needs hr youve got haww  \n",
       "3      hi new cat mom hoping someone might experience something similar cats ear details post comments  \n",
       "4                                                 spooky looks wfh needs hr department haww department  \n",
       "...                                                                                                ...  \n",
       "19936                                                                          right dog child anxiety  \n",
       "19937                                    anyone else find dreaming passed dogs comforting heartwarming  \n",
       "19938                                                                             dog f 3yo humped arm  \n",
       "19939                                 much political correctness determine lot peoples views dogs days  \n",
       "19940                                    looking recommended breeders gsp greater new england usa area  \n",
       "\n",
       "[19886 rows x 6 columns]"
      ]
     },
     "execution_count": 46,
     "metadata": {},
     "output_type": "execute_result"
    }
   ],
   "source": [
    "df[\"clean_title\"] = df[\"title\"].apply(lambda s: rem_en(s))\n",
    "df"
   ]
  },
  {
   "cell_type": "markdown",
   "id": "1d36a000",
   "metadata": {},
   "source": [
    "### Lemmatize and Stemming"
   ]
  },
  {
   "cell_type": "code",
   "execution_count": 47,
   "id": "c080139d",
   "metadata": {},
   "outputs": [],
   "source": [
    "import nltk\n",
    "from nltk.tokenize import sent_tokenize, word_tokenize, RegexpTokenizer\n",
    "from nltk.stem import WordNetLemmatizer\n",
    "from nltk.stem.porter import PorterStemmer\n",
    "from nltk.sentiment.vader import SentimentIntensityAnalyzer\n",
    "import re\n",
    "from sklearn.metrics import accuracy_score\n",
    "from langdetect import detect"
   ]
  },
  {
   "cell_type": "code",
   "execution_count": 48,
   "id": "57202cb3",
   "metadata": {},
   "outputs": [],
   "source": [
    "import spacy\n",
    "from spacy_langdetect import LanguageDetector"
   ]
  },
  {
   "cell_type": "code",
   "execution_count": 49,
   "id": "ad15f078",
   "metadata": {},
   "outputs": [],
   "source": [
    "# Instantiate lemmatizer. \n",
    "# I still dont know this\n",
    "nlp = spacy.load('en_core_web_sm', disable=['parser', 'ner'])"
   ]
  },
  {
   "cell_type": "code",
   "execution_count": 50,
   "id": "a7049640",
   "metadata": {},
   "outputs": [],
   "source": [
    "# my functions very weak\n",
    "def lemma_words(sentence): \n",
    "    doc = nlp(sentence)\n",
    "    sentence_output = \" \".join([token.lemma_ for token in doc])\n",
    "    return sentence_output"
   ]
  },
  {
   "cell_type": "code",
   "execution_count": 51,
   "id": "4aabcff8",
   "metadata": {},
   "outputs": [
    {
     "data": {
      "text/html": [
       "<div>\n",
       "<style scoped>\n",
       "    .dataframe tbody tr th:only-of-type {\n",
       "        vertical-align: middle;\n",
       "    }\n",
       "\n",
       "    .dataframe tbody tr th {\n",
       "        vertical-align: top;\n",
       "    }\n",
       "\n",
       "    .dataframe thead th {\n",
       "        text-align: right;\n",
       "    }\n",
       "</style>\n",
       "<table border=\"1\" class=\"dataframe\">\n",
       "  <thead>\n",
       "    <tr style=\"text-align: right;\">\n",
       "      <th></th>\n",
       "      <th>subreddit</th>\n",
       "      <th>title</th>\n",
       "      <th>title_length</th>\n",
       "      <th>title_word_count</th>\n",
       "      <th>words</th>\n",
       "      <th>clean_title</th>\n",
       "    </tr>\n",
       "  </thead>\n",
       "  <tbody>\n",
       "    <tr>\n",
       "      <th>0</th>\n",
       "      <td>cats</td>\n",
       "      <td>i came home sick from work with pneumonia here is where i found my wifes cat watching tv then noticing me taking pictures</td>\n",
       "      <td>124</td>\n",
       "      <td>23</td>\n",
       "      <td>[i, came, home, sick, from, work, with, pneumonia, here, is, where, i, found, my, wifes, cat, watching, tv, then, noticing, me, taking, pictures]</td>\n",
       "      <td>came home sick work pneumonia found wifes cat watching tv noticing taking pictures</td>\n",
       "    </tr>\n",
       "    <tr>\n",
       "      <th>1</th>\n",
       "      <td>cats</td>\n",
       "      <td>my sleepyhead curled up this morning</td>\n",
       "      <td>36</td>\n",
       "      <td>6</td>\n",
       "      <td>[my, sleepyhead, curled, up, this, morning]</td>\n",
       "      <td>sleepyhead curled morning</td>\n",
       "    </tr>\n",
       "    <tr>\n",
       "      <th>2</th>\n",
       "      <td>cats</td>\n",
       "      <td>spooky takes care of me when i wfh who needs hr when youve got haww</td>\n",
       "      <td>72</td>\n",
       "      <td>15</td>\n",
       "      <td>[spooky, takes, care, of, me, when, i, wfh, who, needs, hr, when, youve, got, haww]</td>\n",
       "      <td>spooky takes care wfh needs hr youve got haww</td>\n",
       "    </tr>\n",
       "    <tr>\n",
       "      <th>3</th>\n",
       "      <td>cats</td>\n",
       "      <td>hi i am a new cat mom and am hoping someone might have experience with something similar to my cats ear details in post comments</td>\n",
       "      <td>131</td>\n",
       "      <td>25</td>\n",
       "      <td>[hi, i, am, a, new, cat, mom, and, am, hoping, someone, might, have, experience, with, something, similar, to, my, cats, ear, details, in, post, comments]</td>\n",
       "      <td>hi new cat mom hoping someone might experience something similar cats ear details post comments</td>\n",
       "    </tr>\n",
       "    <tr>\n",
       "      <th>4</th>\n",
       "      <td>cats</td>\n",
       "      <td>spooky looks after me when i wfh who needs a hr department when you can have a haww department</td>\n",
       "      <td>97</td>\n",
       "      <td>19</td>\n",
       "      <td>[spooky, looks, after, me, when, i, wfh, who, needs, a, hr, department, when, you, can, have, a, haww, department]</td>\n",
       "      <td>spooky looks wfh needs hr department haww department</td>\n",
       "    </tr>\n",
       "  </tbody>\n",
       "</table>\n",
       "</div>"
      ],
      "text/plain": [
       "  subreddit  \\\n",
       "0      cats   \n",
       "1      cats   \n",
       "2      cats   \n",
       "3      cats   \n",
       "4      cats   \n",
       "\n",
       "                                                                                                                              title  \\\n",
       "0         i came home sick from work with pneumonia here is where i found my wifes cat watching tv then noticing me taking pictures   \n",
       "1                                                                                              my sleepyhead curled up this morning   \n",
       "2                                                               spooky takes care of me when i wfh who needs hr when youve got haww   \n",
       "3  hi i am a new cat mom and am hoping someone might have experience with something similar to my cats ear details in post comments   \n",
       "4                                    spooky looks after me when i wfh who needs a hr department when you can have a haww department   \n",
       "\n",
       "   title_length  title_word_count  \\\n",
       "0           124                23   \n",
       "1            36                 6   \n",
       "2            72                15   \n",
       "3           131                25   \n",
       "4            97                19   \n",
       "\n",
       "                                                                                                                                                        words  \\\n",
       "0           [i, came, home, sick, from, work, with, pneumonia, here, is, where, i, found, my, wifes, cat, watching, tv, then, noticing, me, taking, pictures]   \n",
       "1                                                                                                                 [my, sleepyhead, curled, up, this, morning]   \n",
       "2                                                                         [spooky, takes, care, of, me, when, i, wfh, who, needs, hr, when, youve, got, haww]   \n",
       "3  [hi, i, am, a, new, cat, mom, and, am, hoping, someone, might, have, experience, with, something, similar, to, my, cats, ear, details, in, post, comments]   \n",
       "4                                          [spooky, looks, after, me, when, i, wfh, who, needs, a, hr, department, when, you, can, have, a, haww, department]   \n",
       "\n",
       "                                                                                       clean_title  \n",
       "0               came home sick work pneumonia found wifes cat watching tv noticing taking pictures  \n",
       "1                                                                        sleepyhead curled morning  \n",
       "2                                                    spooky takes care wfh needs hr youve got haww  \n",
       "3  hi new cat mom hoping someone might experience something similar cats ear details post comments  \n",
       "4                                             spooky looks wfh needs hr department haww department  "
      ]
     },
     "execution_count": 51,
     "metadata": {},
     "output_type": "execute_result"
    }
   ],
   "source": [
    "df.head()"
   ]
  },
  {
   "cell_type": "code",
   "execution_count": 52,
   "id": "168b8a55",
   "metadata": {
    "scrolled": false
   },
   "outputs": [],
   "source": [
    "df[\"clean_title\"] = df[\"clean_title\"].apply(lemma_words)"
   ]
  },
  {
   "cell_type": "code",
   "execution_count": 53,
   "id": "5279bb83",
   "metadata": {},
   "outputs": [
    {
     "data": {
      "text/html": [
       "<div>\n",
       "<style scoped>\n",
       "    .dataframe tbody tr th:only-of-type {\n",
       "        vertical-align: middle;\n",
       "    }\n",
       "\n",
       "    .dataframe tbody tr th {\n",
       "        vertical-align: top;\n",
       "    }\n",
       "\n",
       "    .dataframe thead th {\n",
       "        text-align: right;\n",
       "    }\n",
       "</style>\n",
       "<table border=\"1\" class=\"dataframe\">\n",
       "  <thead>\n",
       "    <tr style=\"text-align: right;\">\n",
       "      <th></th>\n",
       "      <th>subreddit</th>\n",
       "      <th>title</th>\n",
       "      <th>title_length</th>\n",
       "      <th>title_word_count</th>\n",
       "      <th>words</th>\n",
       "      <th>clean_title</th>\n",
       "    </tr>\n",
       "  </thead>\n",
       "  <tbody>\n",
       "    <tr>\n",
       "      <th>0</th>\n",
       "      <td>cats</td>\n",
       "      <td>i came home sick from work with pneumonia here is where i found my wifes cat watching tv then noticing me taking pictures</td>\n",
       "      <td>124</td>\n",
       "      <td>23</td>\n",
       "      <td>[i, came, home, sick, from, work, with, pneumonia, here, is, where, i, found, my, wifes, cat, watching, tv, then, noticing, me, taking, pictures]</td>\n",
       "      <td>come home sick work pneumonia find wife cat watch tv notice take picture</td>\n",
       "    </tr>\n",
       "    <tr>\n",
       "      <th>1</th>\n",
       "      <td>cats</td>\n",
       "      <td>my sleepyhead curled up this morning</td>\n",
       "      <td>36</td>\n",
       "      <td>6</td>\n",
       "      <td>[my, sleepyhead, curled, up, this, morning]</td>\n",
       "      <td>sleepyhead curl morning</td>\n",
       "    </tr>\n",
       "    <tr>\n",
       "      <th>2</th>\n",
       "      <td>cats</td>\n",
       "      <td>spooky takes care of me when i wfh who needs hr when youve got haww</td>\n",
       "      <td>72</td>\n",
       "      <td>15</td>\n",
       "      <td>[spooky, takes, care, of, me, when, i, wfh, who, needs, hr, when, youve, got, haww]</td>\n",
       "      <td>spooky take care wfh need hr -PRON- have get haww</td>\n",
       "    </tr>\n",
       "    <tr>\n",
       "      <th>3</th>\n",
       "      <td>cats</td>\n",
       "      <td>hi i am a new cat mom and am hoping someone might have experience with something similar to my cats ear details in post comments</td>\n",
       "      <td>131</td>\n",
       "      <td>25</td>\n",
       "      <td>[hi, i, am, a, new, cat, mom, and, am, hoping, someone, might, have, experience, with, something, similar, to, my, cats, ear, details, in, post, comments]</td>\n",
       "      <td>hi new cat mom hope someone may experience something similar cat ear detail post comment</td>\n",
       "    </tr>\n",
       "    <tr>\n",
       "      <th>4</th>\n",
       "      <td>cats</td>\n",
       "      <td>spooky looks after me when i wfh who needs a hr department when you can have a haww department</td>\n",
       "      <td>97</td>\n",
       "      <td>19</td>\n",
       "      <td>[spooky, looks, after, me, when, i, wfh, who, needs, a, hr, department, when, you, can, have, a, haww, department]</td>\n",
       "      <td>spooky look wfh need hr department haww department</td>\n",
       "    </tr>\n",
       "  </tbody>\n",
       "</table>\n",
       "</div>"
      ],
      "text/plain": [
       "  subreddit  \\\n",
       "0      cats   \n",
       "1      cats   \n",
       "2      cats   \n",
       "3      cats   \n",
       "4      cats   \n",
       "\n",
       "                                                                                                                              title  \\\n",
       "0         i came home sick from work with pneumonia here is where i found my wifes cat watching tv then noticing me taking pictures   \n",
       "1                                                                                              my sleepyhead curled up this morning   \n",
       "2                                                               spooky takes care of me when i wfh who needs hr when youve got haww   \n",
       "3  hi i am a new cat mom and am hoping someone might have experience with something similar to my cats ear details in post comments   \n",
       "4                                    spooky looks after me when i wfh who needs a hr department when you can have a haww department   \n",
       "\n",
       "   title_length  title_word_count  \\\n",
       "0           124                23   \n",
       "1            36                 6   \n",
       "2            72                15   \n",
       "3           131                25   \n",
       "4            97                19   \n",
       "\n",
       "                                                                                                                                                        words  \\\n",
       "0           [i, came, home, sick, from, work, with, pneumonia, here, is, where, i, found, my, wifes, cat, watching, tv, then, noticing, me, taking, pictures]   \n",
       "1                                                                                                                 [my, sleepyhead, curled, up, this, morning]   \n",
       "2                                                                         [spooky, takes, care, of, me, when, i, wfh, who, needs, hr, when, youve, got, haww]   \n",
       "3  [hi, i, am, a, new, cat, mom, and, am, hoping, someone, might, have, experience, with, something, similar, to, my, cats, ear, details, in, post, comments]   \n",
       "4                                          [spooky, looks, after, me, when, i, wfh, who, needs, a, hr, department, when, you, can, have, a, haww, department]   \n",
       "\n",
       "                                                                                clean_title  \n",
       "0                  come home sick work pneumonia find wife cat watch tv notice take picture  \n",
       "1                                                                   sleepyhead curl morning  \n",
       "2                                         spooky take care wfh need hr -PRON- have get haww  \n",
       "3  hi new cat mom hope someone may experience something similar cat ear detail post comment  \n",
       "4                                        spooky look wfh need hr department haww department  "
      ]
     },
     "execution_count": 53,
     "metadata": {},
     "output_type": "execute_result"
    }
   ],
   "source": [
    "df.head()"
   ]
  },
  {
   "cell_type": "markdown",
   "id": "30697b35",
   "metadata": {},
   "source": [
    "I chose Lemmatize over Stemming as the process of lemmatization is less harsh, leaving the words in their root form."
   ]
  },
  {
   "cell_type": "markdown",
   "id": "b27412b3",
   "metadata": {},
   "source": [
    "### Changing Subreddit to Binary Data\n",
    "    Cats is 0, dogs is 1"
   ]
  },
  {
   "cell_type": "code",
   "execution_count": 54,
   "id": "8d2a0b63",
   "metadata": {},
   "outputs": [],
   "source": [
    "df['subreddit'] = df['subreddit'].map({'cats':0, 'dogs': 1})"
   ]
  },
  {
   "cell_type": "code",
   "execution_count": 55,
   "id": "2aca17fd",
   "metadata": {},
   "outputs": [],
   "source": [
    "new_df = df[['subreddit', 'clean_title']]"
   ]
  },
  {
   "cell_type": "code",
   "execution_count": 56,
   "id": "d905a72b",
   "metadata": {},
   "outputs": [],
   "source": [
    "new_df.to_csv('final_df.csv')"
   ]
  },
  {
   "cell_type": "code",
   "execution_count": 57,
   "id": "3e025f3d",
   "metadata": {},
   "outputs": [],
   "source": [
    "df.to_csv('full_df.csv')"
   ]
  },
  {
   "cell_type": "code",
   "execution_count": null,
   "id": "8dcc3273",
   "metadata": {},
   "outputs": [],
   "source": []
  },
  {
   "cell_type": "code",
   "execution_count": null,
   "id": "54ec2780",
   "metadata": {},
   "outputs": [],
   "source": []
  },
  {
   "cell_type": "code",
   "execution_count": null,
   "id": "24c7bca4",
   "metadata": {},
   "outputs": [],
   "source": []
  },
  {
   "cell_type": "code",
   "execution_count": null,
   "id": "16fc30d1",
   "metadata": {},
   "outputs": [],
   "source": []
  },
  {
   "cell_type": "code",
   "execution_count": null,
   "id": "ebe03580",
   "metadata": {},
   "outputs": [],
   "source": []
  },
  {
   "cell_type": "code",
   "execution_count": null,
   "id": "34634321",
   "metadata": {},
   "outputs": [],
   "source": []
  }
 ],
 "metadata": {
  "kernelspec": {
   "display_name": "Python 3",
   "language": "python",
   "name": "python3"
  },
  "language_info": {
   "codemirror_mode": {
    "name": "ipython",
    "version": 3
   },
   "file_extension": ".py",
   "mimetype": "text/x-python",
   "name": "python",
   "nbconvert_exporter": "python",
   "pygments_lexer": "ipython3",
   "version": "3.8.8"
  }
 },
 "nbformat": 4,
 "nbformat_minor": 5
}
