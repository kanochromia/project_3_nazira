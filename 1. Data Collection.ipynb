{
 "cells": [
  {
   "cell_type": "markdown",
   "id": "4071e75d",
   "metadata": {},
   "source": [
    "![](https://ga-dash.s3.amazonaws.com/production/assets/logo-9f88ae6c9c3871690e33280fcf557f33.png) Project 3: The Best Business Model"
   ]
  },
  {
   "cell_type": "markdown",
   "id": "693b5b8d",
   "metadata": {},
   "source": [
    "# Data Collection"
   ]
  },
  {
   "cell_type": "code",
   "execution_count": 17,
   "id": "7e1fc421",
   "metadata": {},
   "outputs": [],
   "source": [
    "import conda\n",
    "import seaborn as sns\n",
    "import html5lib\n",
    "import matplotlib\n",
    "import numpy as np\n",
    "import pandas as pd\n",
    "import requests\n",
    "import sklearn"
   ]
  },
  {
   "cell_type": "code",
   "execution_count": 18,
   "id": "587d30d1",
   "metadata": {},
   "outputs": [],
   "source": [
    "url = 'https://api.pushshift.io/reddit/search/submission'"
   ]
  },
  {
   "cell_type": "code",
   "execution_count": 19,
   "id": "3c770875",
   "metadata": {},
   "outputs": [],
   "source": [
    "params = {\n",
    "    'subreddit': 'cats',\n",
    "    'size': 100,\n",
    "    'before': 1641398400\n",
    "}"
   ]
  },
  {
   "cell_type": "code",
   "execution_count": 20,
   "id": "f35ef187",
   "metadata": {},
   "outputs": [],
   "source": [
    "res = requests.get(url, params)"
   ]
  },
  {
   "cell_type": "code",
   "execution_count": 21,
   "id": "32cdc4f4",
   "metadata": {},
   "outputs": [
    {
     "data": {
      "text/plain": [
       "200"
      ]
     },
     "execution_count": 21,
     "metadata": {},
     "output_type": "execute_result"
    }
   ],
   "source": [
    "res.status_code"
   ]
  },
  {
   "cell_type": "code",
   "execution_count": 22,
   "id": "4ec87e4e",
   "metadata": {},
   "outputs": [],
   "source": [
    "data = res.json()"
   ]
  },
  {
   "cell_type": "code",
   "execution_count": 23,
   "id": "c3c58ad3",
   "metadata": {},
   "outputs": [],
   "source": [
    "posts = data['data']"
   ]
  },
  {
   "cell_type": "code",
   "execution_count": 24,
   "id": "e86ae1b3",
   "metadata": {},
   "outputs": [
    {
     "data": {
      "text/plain": [
       "100"
      ]
     },
     "execution_count": 24,
     "metadata": {},
     "output_type": "execute_result"
    }
   ],
   "source": [
    "len(posts)"
   ]
  },
  {
   "cell_type": "code",
   "execution_count": 25,
   "id": "34e11599",
   "metadata": {},
   "outputs": [],
   "source": [
    "df_cats = pd.DataFrame(posts)"
   ]
  },
  {
   "cell_type": "code",
   "execution_count": 26,
   "id": "954288ca",
   "metadata": {},
   "outputs": [
    {
     "data": {
      "text/plain": [
       "(9995, 83)"
      ]
     },
     "execution_count": 26,
     "metadata": {},
     "output_type": "execute_result"
    }
   ],
   "source": [
    "# Extracting another 9950 posts to get 1000 rows for df_cats\n",
    "for i in range(99):\n",
    "    params = {'subreddit': 'cats', 'size': 100, 'before': posts[-1]['created_utc']}\n",
    "    response = requests.get(url, params)\n",
    "    data = response.json()\n",
    "    posts = data['data']\n",
    "    df_cats = df_cats.append(pd.DataFrame(posts))\n",
    "\n",
    "# Check if we have 10000 posts\n",
    "df_cats.shape"
   ]
  },
  {
   "cell_type": "code",
   "execution_count": 27,
   "id": "58e2f4ce",
   "metadata": {},
   "outputs": [],
   "source": [
    "df_cats = df_cats[['subreddit', 'title']]"
   ]
  },
  {
   "cell_type": "code",
   "execution_count": 28,
   "id": "f8b76b45",
   "metadata": {},
   "outputs": [],
   "source": [
    "df_cats.to_csv('cats.csv')"
   ]
  },
  {
   "cell_type": "markdown",
   "id": "79172751",
   "metadata": {},
   "source": [
    "Parameters for Dogs"
   ]
  },
  {
   "cell_type": "code",
   "execution_count": 29,
   "id": "940da081",
   "metadata": {},
   "outputs": [],
   "source": [
    "params = {\n",
    "    'subreddit': 'dogs',\n",
    "    'size': 50,\n",
    "    'before': 1641398400\n",
    "}"
   ]
  },
  {
   "cell_type": "code",
   "execution_count": 30,
   "id": "86b96e80",
   "metadata": {},
   "outputs": [],
   "source": [
    "res = requests.get(url, params)\n",
    "data = res.json()\n",
    "posts = data['data']\n",
    "df_dogs = pd.DataFrame(posts)"
   ]
  },
  {
   "cell_type": "code",
   "execution_count": 31,
   "id": "32049f1f",
   "metadata": {},
   "outputs": [
    {
     "data": {
      "text/plain": [
       "(9946, 78)"
      ]
     },
     "execution_count": 31,
     "metadata": {},
     "output_type": "execute_result"
    }
   ],
   "source": [
    "# Extracting another 9950 posts to get 1000 rows for df_cats\n",
    "for i in range(99):\n",
    "    params = {'subreddit': 'dogs', 'size': 100, 'before': posts[-1]['created_utc']}\n",
    "    response = requests.get(url, params)\n",
    "    data = response.json()\n",
    "    posts = data['data']\n",
    "    df_dogs = df_dogs.append(pd.DataFrame(posts))\n",
    "\n",
    "# Check if we have 10000 posts\n",
    "df_dogs.shape"
   ]
  },
  {
   "cell_type": "code",
   "execution_count": 32,
   "id": "9b3ce58d",
   "metadata": {},
   "outputs": [],
   "source": [
    "df_dogs = df_dogs[['subreddit', 'title']]\n",
    "df_dogs.to_csv('dogs.csv')"
   ]
  },
  {
   "cell_type": "markdown",
   "id": "fc557094",
   "metadata": {},
   "source": [
    "Parameter for Pet Loss"
   ]
  },
  {
   "cell_type": "code",
   "execution_count": null,
   "id": "3d97326e",
   "metadata": {
    "scrolled": true
   },
   "outputs": [],
   "source": [
    "params = {\n",
    "    'subreddit': 'petloss',\n",
    "    'size': 100,\n",
    "    'before': 1641398400\n",
    "}"
   ]
  },
  {
   "cell_type": "code",
   "execution_count": null,
   "id": "56e4855c",
   "metadata": {},
   "outputs": [],
   "source": [
    "res = requests.get(url, params)\n",
    "data = res.json()\n",
    "posts = data['data']\n",
    "df_petloss = pd.DataFrame(posts)"
   ]
  },
  {
   "cell_type": "code",
   "execution_count": null,
   "id": "4fb22b6e",
   "metadata": {},
   "outputs": [],
   "source": [
    "# Extracting another 900 posts to get 1000 rows for df_cats\n",
    "for i in range(9):\n",
    "    params = {'subreddit': 'petloss', 'size': 100, 'before': posts[-1]['created_utc']}\n",
    "    response = requests.get(url, params)\n",
    "    data = response.json()\n",
    "    posts = data['data']\n",
    "    df_petloss = df_petloss.append(pd.DataFrame(posts))\n",
    "\n",
    "# Check if we have 1000 posts\n",
    "df_petloss.shape"
   ]
  },
  {
   "cell_type": "code",
   "execution_count": null,
   "id": "16693bc3",
   "metadata": {},
   "outputs": [],
   "source": [
    "df_dogs = df_dogs[['subreddit', 'title']]\n",
    "df_dogs.to_csv('dogs.csv')"
   ]
  },
  {
   "cell_type": "code",
   "execution_count": null,
   "id": "0a77f28b",
   "metadata": {},
   "outputs": [],
   "source": []
  }
 ],
 "metadata": {
  "kernelspec": {
   "display_name": "Python 3",
   "language": "python",
   "name": "python3"
  },
  "language_info": {
   "codemirror_mode": {
    "name": "ipython",
    "version": 3
   },
   "file_extension": ".py",
   "mimetype": "text/x-python",
   "name": "python",
   "nbconvert_exporter": "python",
   "pygments_lexer": "ipython3",
   "version": "3.8.8"
  }
 },
 "nbformat": 4,
 "nbformat_minor": 5
}
